{
 "cells": [
  {
   "cell_type": "code",
   "execution_count": 1,
   "id": "fc73d74c",
   "metadata": {},
   "outputs": [
    {
     "data": {
      "text/plain": [
       "('answercheck.py', <http.client.HTTPMessage at 0x7fd334327910>)"
      ]
     },
     "execution_count": 1,
     "metadata": {},
     "output_type": "execute_result"
    }
   ],
   "source": [
    "##ANSWER##\n",
    "#Install answercheck in current director\n",
    "from urllib.request import urlretrieve\n",
    "urlretrieve('https://raw.githubusercontent.com/colbrydi/jupytercheck/master/answercheck.py', filename='answercheck.py')\n",
    "##ANSWER##"
   ]
  },
  {
   "cell_type": "markdown",
   "id": "3c2a4f39",
   "metadata": {},
   "source": [
    "# Scope\n",
    "Recognizing where variables can be used in a program and where they cannot be used."
   ]
  },
  {
   "cell_type": "markdown",
   "id": "2b78245b",
   "metadata": {},
   "source": [
    "**_Optional_** Motivating picture: \n",
    "\n",
    "![title](scopePicture.jpg)(https://blogs.lse.ac.uk/impactofsocialsciences/files/2015/03/bridge-construction.jpg)\n",
    "\n"
   ]
  },
  {
   "cell_type": "markdown",
   "id": "71e867d9",
   "metadata": {},
   "source": [
    "## Description\n",
    "Scope is defined as when and where a variable is accessible in a program. There are different types of scope - different ways a variable can be accessed in a program. This document will only focus on two types of scope, Global scope and Local scope."
   ]
  },
  {
   "cell_type": "markdown",
   "id": "58ec20e8",
   "metadata": {},
   "source": [
    "## Self Assessment\n",
    "\n",
    "Questions that test for the learning goals and allows students to evaluate if they truly understand the topics."
   ]
  },
  {
   "cell_type": "markdown",
   "id": "4af35ce7",
   "metadata": {},
   "source": [
    "&#9989; **<span style=\"color:red\">Question 1:</span>**  Which of the scope types is accessible to all of the program?\n",
    "\n",
    "1. Local Scope\n",
    "2. Global Scope"
   ]
  },
  {
   "cell_type": "code",
   "execution_count": 2,
   "id": "15f43828",
   "metadata": {},
   "outputs": [
    {
     "data": {
      "text/plain": [
       "2"
      ]
     },
     "execution_count": 2,
     "metadata": {},
     "output_type": "execute_result"
    }
   ],
   "source": [
    "##ANSWER##\n",
    "2\n",
    "##ANSWER##"
   ]
  },
  {
   "cell_type": "markdown",
   "id": "3921c156",
   "metadata": {},
   "source": [
    "&#9989; **<span style=\"color:red\">Question 2:</span>**  Where would you not see a local scope defined in a program?\n",
    "\n",
    "1. In a function\n",
    "2. In a class\n",
    "3. In a loop\n",
    "4. Beginning of a program"
   ]
  },
  {
   "cell_type": "code",
   "execution_count": 3,
   "id": "c3dfd97d",
   "metadata": {},
   "outputs": [
    {
     "data": {
      "text/plain": [
       "4"
      ]
     },
     "execution_count": 3,
     "metadata": {},
     "output_type": "execute_result"
    }
   ],
   "source": [
    "##ANSWER##\n",
    "4\n",
    "##ANSWER##"
   ]
  },
  {
   "cell_type": "markdown",
   "id": "77bd1740",
   "metadata": {},
   "source": [
    "**Use the code below to answer questions 3-5.** <br/>\n",
    "**Hint:** The print statement is written as the following:\n",
    "``` bash \n",
    "std::cout<< YourTextHere <<std::endl; \n",
    "```\n",
    "![title](GlobalScope.png)"
   ]
  },
  {
   "cell_type": "markdown",
   "id": "12d2601a",
   "metadata": {},
   "source": [
    "&#9989; **<span style=\"color:red\">Question 3:</span>**  What is printed at line 8?"
   ]
  },
  {
   "cell_type": "code",
   "execution_count": 4,
   "id": "65583bcc",
   "metadata": {},
   "outputs": [
    {
     "data": {
      "text/plain": [
       "10"
      ]
     },
     "execution_count": 4,
     "metadata": {},
     "output_type": "execute_result"
    }
   ],
   "source": [
    "##ANSWER##\n",
    "10\n",
    "##ANSWER##"
   ]
  },
  {
   "cell_type": "markdown",
   "id": "93d6fe2f",
   "metadata": {},
   "source": [
    "&#9989; **<span style=\"color:red\">Question 4:</span>**  What is printed at line 15?"
   ]
  },
  {
   "cell_type": "code",
   "execution_count": 5,
   "id": "e5e975d1",
   "metadata": {},
   "outputs": [
    {
     "data": {
      "text/plain": [
       "4"
      ]
     },
     "execution_count": 5,
     "metadata": {},
     "output_type": "execute_result"
    }
   ],
   "source": [
    "##ANSWER##\n",
    "4\n",
    "##ANSWER##"
   ]
  },
  {
   "cell_type": "markdown",
   "id": "87a7ef55",
   "metadata": {},
   "source": [
    "&#9989; **<span style=\"color:red\">Question 5:</span>**  If we were to print out **c** after the last yellow curly bracket, what would be its value?"
   ]
  },
  {
   "cell_type": "code",
   "execution_count": 6,
   "id": "53254c28",
   "metadata": {},
   "outputs": [
    {
     "data": {
      "text/plain": [
       "10"
      ]
     },
     "execution_count": 6,
     "metadata": {},
     "output_type": "execute_result"
    }
   ],
   "source": [
    "##ANSWER##\n",
    "10\n",
    "##ANSWER##"
   ]
  },
  {
   "cell_type": "markdown",
   "id": "5024c8b7",
   "metadata": {},
   "source": [
    "&#9989; **<span style=\"color:red\">Question 6:</span>**  What will be printed below?"
   ]
  },
  {
   "cell_type": "code",
   "execution_count": 7,
   "id": "1d37b9f3",
   "metadata": {},
   "outputs": [],
   "source": [
    "x = 300\n",
    "def func():\n",
    "    x = 200\n",
    "    print(x)\n",
    "\n",
    "\n",
    "# print(x)"
   ]
  },
  {
   "cell_type": "code",
   "execution_count": 8,
   "id": "6c5c196b",
   "metadata": {},
   "outputs": [
    {
     "data": {
      "text/plain": [
       "300"
      ]
     },
     "execution_count": 8,
     "metadata": {},
     "output_type": "execute_result"
    }
   ],
   "source": [
    "##ANSWER##\n",
    "300\n",
    "##ANSWER##"
   ]
  },
  {
   "cell_type": "markdown",
   "id": "0456a3c4",
   "metadata": {},
   "source": [
    "&#9989; **<span style=\"color:red\">Question 7:</span>**  What will be printed below?"
   ]
  },
  {
   "cell_type": "code",
   "execution_count": 9,
   "id": "f0e44800",
   "metadata": {},
   "outputs": [],
   "source": [
    "x = 300\n",
    "def func():\n",
    "    x = 200\n",
    "    print(x)\n",
    "\n",
    "# func()"
   ]
  },
  {
   "cell_type": "code",
   "execution_count": 10,
   "id": "51029b03",
   "metadata": {},
   "outputs": [
    {
     "data": {
      "text/plain": [
       "200"
      ]
     },
     "execution_count": 10,
     "metadata": {},
     "output_type": "execute_result"
    }
   ],
   "source": [
    "##ANSWER##\n",
    "200\n",
    "##ANSWER##"
   ]
  },
  {
   "cell_type": "markdown",
   "id": "6b48b0d0",
   "metadata": {},
   "source": [
    "&#9989; **<span style=\"color:red\">Question 8:</span>**  How do you identify the scope of a variable in Python (As opposed to C++ syntax)?\n",
    "\n",
    "1. Using curly brackets {}\n",
    "2. Using parantheses ()\n",
    "3. Using indentation\n",
    "4. Using the variable name"
   ]
  },
  {
   "cell_type": "code",
   "execution_count": 11,
   "id": "4f70eba5",
   "metadata": {},
   "outputs": [
    {
     "data": {
      "text/plain": [
       "3"
      ]
     },
     "execution_count": 11,
     "metadata": {},
     "output_type": "execute_result"
    }
   ],
   "source": [
    "##ANSWER##\n",
    "3\n",
    "##ANSWER##"
   ]
  },
  {
   "cell_type": "code",
   "execution_count": 12,
   "id": "9cc2b34a",
   "metadata": {},
   "outputs": [],
   "source": [
    "# from answercheck import checkanswer\n",
    "# checkanswer.vector(x,'2cab95d1b144d663bad1ce5c51020ae0')"
   ]
  },
  {
   "cell_type": "markdown",
   "id": "2a3fad10",
   "metadata": {},
   "source": [
    "## Training Materials"
   ]
  },
  {
   "cell_type": "markdown",
   "id": "ea15c34b",
   "metadata": {},
   "source": [
    "#### What is Scope?"
   ]
  },
  {
   "cell_type": "markdown",
   "id": "343e3b11",
   "metadata": {},
   "source": [
    "&#9989; **<span style=\"color:red\">Read the following website:</span>** https://www.educative.io/answers/what-is-scope  <br>\n",
    "**Note:** The website talks about where the scope is but not how to necessarily identify it in the code. When there are \"curly brackets\" or { }, the variables defined within this are considered **local** - in the case seen on the website, the following variable is local:\n",
    "``` bash \n",
    "    string name = Bob\n",
    "```\n",
    "<br> \n",
    "The video below will go more in depth about this, but this link will help first introduce you to Global and Local Scope."
   ]
  },
  {
   "cell_type": "markdown",
   "id": "b44650dd",
   "metadata": {},
   "source": [
    "#### Introduction to Global and Local Scope in C++"
   ]
  },
  {
   "cell_type": "code",
   "execution_count": 13,
   "id": "b64de2b9",
   "metadata": {},
   "outputs": [
    {
     "data": {
      "image/jpeg": "[encoded data removed]",
      "text/html": [
       "\n",
       "        <iframe\n",
       "            width=\"100%\"\n",
       "            height=\"360\"\n",
       "            src=\"https://www.youtube.com/embed/RTWHa8WEtYk?cc_load_policy=True\"\n",
       "            frameborder=\"0\"\n",
       "            allowfullscreen\n",
       "        ></iframe>\n",
       "        "
      ],
      "text/plain": [
       "<IPython.lib.display.YouTubeVideo at 0x7fd334290520>"
      ]
     },
     "execution_count": 13,
     "metadata": {},
     "output_type": "execute_result"
    }
   ],
   "source": [
    "from IPython.display import YouTubeVideo\n",
    "YouTubeVideo(\"RTWHa8WEtYk\",width=\"100%\", height=360, cc_load_policy=True)"
   ]
  },
  {
   "cell_type": "markdown",
   "id": "560d9310",
   "metadata": {},
   "source": [
    "#### Code Walkthrough of Scope in C++"
   ]
  },
  {
   "cell_type": "code",
   "execution_count": 14,
   "id": "3690ed8b",
   "metadata": {},
   "outputs": [
    {
     "data": {
      "image/jpeg": "[encoded data removed]",
      "text/html": [
       "\n",
       "        <iframe\n",
       "            width=\"100%\"\n",
       "            height=\"360\"\n",
       "            src=\"https://www.youtube.com/embed/tXo7QyOGMBk?cc_load_policy=True\"\n",
       "            frameborder=\"0\"\n",
       "            allowfullscreen\n",
       "        ></iframe>\n",
       "        "
      ],
      "text/plain": [
       "<IPython.lib.display.YouTubeVideo at 0x7fd334290d60>"
      ]
     },
     "execution_count": 14,
     "metadata": {},
     "output_type": "execute_result"
    }
   ],
   "source": [
    "from IPython.display import YouTubeVideo\n",
    "YouTubeVideo(\"tXo7QyOGMBk\",width=\"100%\", height=360, cc_load_policy=True)"
   ]
  },
  {
   "cell_type": "markdown",
   "id": "e8ae5f06",
   "metadata": {},
   "source": [
    "#### Scope in Python"
   ]
  },
  {
   "cell_type": "markdown",
   "id": "7e9a0e12",
   "metadata": {},
   "source": [
    "&#9989; **<span style=\"color:red\">Read the following website:</span>** https://www.w3schools.com/python/python_scope.asp  <br>"
   ]
  },
  {
   "cell_type": "markdown",
   "id": "44b461a0",
   "metadata": {},
   "source": [
    "---\n",
    "\n",
    "Written by Jessica Parks, Michigan State University  \n",
    "As part of the Data Science Bridge Project \n",
    "    \n",
    "<a rel=\"license\" href=\"http://creativecommons.org/licenses/by-nc/4.0/\"><img alt=\"Creative Commons License\" style=\"border-width:0\" src=\"https://i.creativecommons.org/l/by-nc/4.0/88x31.png\" /></a><br />This work is licensed under a <a rel=\"license\" href=\"http://creativecommons.org/licenses/by-nc/4.0/\">Creative Commons Attribution-NonCommercial 4.0 International License</a>."
   ]
  }
 ],
 "metadata": {
  "kernelspec": {
   "display_name": "Python 3",
   "language": "python",
   "name": "python3"
  },
  "language_info": {
   "codemirror_mode": {
    "name": "ipython",
    "version": 3
   },
   "file_extension": ".py",
   "mimetype": "text/x-python",
   "name": "python",
   "nbconvert_exporter": "python",
   "pygments_lexer": "ipython3",
   "version": "3.8.8"
  }
 },
 "nbformat": 4,
 "nbformat_minor": 5
}
