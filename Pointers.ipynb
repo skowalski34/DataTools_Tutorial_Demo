{
 "cells": [
  {
   "cell_type": "code",
   "execution_count": 1,
   "id": "fc73d74c",
   "metadata": {},
   "outputs": [
    {
     "data": {
      "text/plain": [
       "('answercheck.py', <http.client.HTTPMessage at 0x7f646df0f820>)"
      ]
     },
     "execution_count": 1,
     "metadata": {},
     "output_type": "execute_result"
    }
   ],
   "source": [
    "##ANSWER##\n",
    "#Install answercheck in current director\n",
    "from urllib.request import urlretrieve\n",
    "urlretrieve('https://raw.githubusercontent.com/colbrydi/jupytercheck/master/answercheck.py', filename='answercheck.py')\n",
    "##ANSWER##"
   ]
  },
  {
   "cell_type": "markdown",
   "id": "3c2a4f39",
   "metadata": {},
   "source": [
    "# Pointers\n",
    "Understanding Pointers and their purpose "
   ]
  },
  {
   "cell_type": "markdown",
   "id": "2b78245b",
   "metadata": {},
   "source": [
    "Pointer Dog: \n",
    "![Types of Pointer Dog Breeds - Image found in the Google Images from AZ Animals](https://a-z-animals.com/media/2021/10/Types-of-Pointer-Dogs-header.jpg)\n",
    "\n"
   ]
  },
  {
   "cell_type": "markdown",
   "id": "71e867d9",
   "metadata": {},
   "source": [
    "## Description\n",
    "Pointers are variables whose value is an address, which is in another location in memory. Thus it is possible to refer to another variable in memory by that other variables memory address and also manipulate memory.\n"
   ]
  },
  {
   "cell_type": "markdown",
   "id": "4ee3c1f1",
   "metadata": {},
   "source": [
    "## Learning Goals\n"
   ]
  },
  {
   "cell_type": "markdown",
   "id": "58ec20e8",
   "metadata": {},
   "source": [
    "## Self Assessment\n",
    "\n",
    "Questions that test for the learning goals and allows students to evaluate if they truly understand the topics."
   ]
  },
  {
   "cell_type": "markdown",
   "id": "07524fd7",
   "metadata": {},
   "source": [
    "&#9989; **<span style=\"color:red\">Question:</span>**  What is the correct way to create a pointer so that it points to a string variable named drink in the following code:  \n",
    "        \n",
    "        string drink = \"Coke\";\n",
    "\n",
    "1. string* ptr = &drink;\n",
    "2. string ptr = drink;\n",
    "3. string& ptr = drink*;"
   ]
  },
  {
   "cell_type": "markdown",
   "id": "f1da5683",
   "metadata": {},
   "source": [
    "&#9989; **<span style=\"color:red\">Question:</span>** For the code below, which of the following is the best way to read the code:\n",
    "\n",
    "    int w = 99;\n",
    "    int* x = &w;\n",
    "    int* y = x;\n",
    "\n",
    "1. Pointer x and Pointer y point to the same address.\n",
    "2. Pointer x  points to the value \"99 \"and Pointer y points to the the address of w.\n",
    "3. Pointer x and Pointer y point to the same value."
   ]
  },
  {
   "cell_type": "markdown",
   "id": "7e232e3c",
   "metadata": {},
   "source": [
    "&#9989; **<span style=\"color:red\">Question:</span>** For the code below, which of the following is true:\n",
    "\n",
    "    int w = 99;\n",
    "    int* x = &w;\n",
    "    int* y = x;\n",
    "\n",
    "1. x and y have the same name.\n",
    "2. x and y have the same address.\n",
    "3. x and y have the same value."
   ]
  },
  {
   "cell_type": "markdown",
   "id": "0843ee02",
   "metadata": {},
   "source": [
    "## TODO: DIRK will work on a list of list with pointers"
   ]
  },
  {
   "cell_type": "markdown",
   "id": "6527d414",
   "metadata": {},
   "source": [
    "## TODO: Reword the second question"
   ]
  },
  {
   "cell_type": "markdown",
   "id": "81760d5f",
   "metadata": {},
   "source": [
    "&#9989; **<span style=\"color:red\">Optional Question:</span>** Example Question:\n",
    "\n",
    "    \n",
    "\n",
    "1. AN2 1.\n",
    "2. ANS 2.\n",
    "3. ANS 3."
   ]
  },
  {
   "cell_type": "markdown",
   "id": "5d237ca9",
   "metadata": {},
   "source": [
    "## Training Materials\n",
    "\n",
    "\n"
   ]
  },
  {
   "cell_type": "markdown",
   "id": "21f9b14e",
   "metadata": {},
   "source": [
    "Introduction to Pointers in C++ in 6 minutes (https://youtu.be/fBlM7pR2r_Q)"
   ]
  },
  {
   "cell_type": "markdown",
   "id": "68f2cbdb",
   "metadata": {},
   "source": [
    "Pointer Material with exercises (https://www.w3schools.com/cpp/cpp_pointers.asp)"
   ]
  },
  {
   "cell_type": "markdown",
   "id": "dd1da075",
   "metadata": {},
   "source": [
    "Pointer Material (https://www.programiz.com/cpp-programming/pointers)"
   ]
  },
  {
   "cell_type": "code",
   "execution_count": 11,
   "id": "deeec8f7",
   "metadata": {
    "collapsed": true
   },
   "outputs": [
    {
     "data": {
      "image/jpeg": "[encoded data removed]",
      "text/html": [
       "\n",
       "        <iframe\n",
       "            width=\"100%\"\n",
       "            height=\"360\"\n",
       "            src=\"https://www.youtube.com/embed/fBlM7pR2r_Q?cc_load_policy=True\"\n",
       "            frameborder=\"0\"\n",
       "            allowfullscreen\n",
       "        ></iframe>\n",
       "        "
      ],
      "text/plain": [
       "<IPython.lib.display.YouTubeVideo at 0x7f646ce74370>"
      ]
     },
     "execution_count": 11,
     "metadata": {},
     "output_type": "execute_result"
    }
   ],
   "source": [
    "from IPython.display import YouTubeVideo\n",
    "YouTubeVideo(\"fBlM7pR2r_Q\",width=\"100%\", height=360, cc_load_policy=True)"
   ]
  },
  {
   "cell_type": "markdown",
   "id": "44b461a0",
   "metadata": {},
   "source": [
    "---\n",
    "\n",
    "Written by <<YOUR NAME HERE>>, Michigan State University  \n",
    "As part of the Data Science Bridge Project \n",
    "    \n",
    "<a rel=\"license\" href=\"http://creativecommons.org/licenses/by-nc/4.0/\"><img alt=\"Creative Commons License\" style=\"border-width:0\" src=\"https://i.creativecommons.org/l/by-nc/4.0/88x31.png\" /></a><br />This work is licensed under a <a rel=\"license\" href=\"http://creativecommons.org/licenses/by-nc/4.0/\">Creative Commons Attribution-NonCommercial 4.0 International License</a>."
   ]
  }
 ],
 "metadata": {
  "kernelspec": {
   "display_name": "Python 3",
   "language": "python",
   "name": "python3"
  },
  "language_info": {
   "codemirror_mode": {
    "name": "ipython",
    "version": 3
   },
   "file_extension": ".py",
   "mimetype": "text/x-python",
   "name": "python",
   "nbconvert_exporter": "python",
   "pygments_lexer": "ipython3",
   "version": "3.8.8"
  }
 },
 "nbformat": 4,
 "nbformat_minor": 5
}
