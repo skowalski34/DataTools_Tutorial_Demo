{
 "cells": [
  {
   "cell_type": "code",
   "execution_count": 5,
   "id": "6f3d3c8e",
   "metadata": {},
   "outputs": [
    {
     "name": "stdout",
     "output_type": "stream",
     "text": [
      " Volume in drive C is Windows\n",
      " Volume Serial Number is 9804-D0F8\n",
      "\n",
      " Directory of C:\\Users\\12058\n",
      "\n",
      "06/28/2022  09:42 AM    <DIR>          .\n",
      "06/28/2022  09:42 AM    <DIR>          ..\n",
      "06/28/2022  07:50 AM    <DIR>          .ipynb_checkpoints\n",
      "06/01/2022  09:53 AM    <DIR>          .ipython\n",
      "06/02/2022  07:27 PM    <DIR>          .jupyter\n",
      "06/02/2022  08:03 PM    <DIR>          .matplotlib\n",
      "06/28/2022  09:43 AM    <DIR>          .ssh\n",
      "06/08/2022  10:09 AM           248,337 01-Python_Packages.ipynb\n",
      "06/08/2022  09:17 AM            98,945 04--Gauss_Jordan_pre-class-assignment.ipynb\n",
      "06/08/2022  10:53 AM            39,849 04-Gauss_Jordan_in-class-assignment.ipynb\n",
      "06/10/2022  09:59 AM            32,829 05--Gauss_Jordan2_pre-class-assignment.ipynb\n",
      "06/12/2022  07:06 PM             9,262 05-Gauss_Jordan2_in-class-assignment.ipynb\n",
      "06/13/2022  09:29 AM            27,253 06--Mechanics_pre-class-assignment.ipynb\n",
      "06/13/2022  09:22 PM            19,582 06-Mechanics_in-class-assignment.ipynb\n",
      "06/15/2022  09:34 AM            64,736 07--Transformations_pre-class-assignment.ipynb\n",
      "06/15/2022  10:51 AM            82,657 07-Transformations_in-class-assignment.ipynb\n",
      "06/20/2022  09:23 AM            15,503 11--Vector_Spaces_pre-class-assignment.ipynb\n",
      "06/20/2022  10:39 AM            17,851 11-Vector_Spaces_in-class-assignment.ipynb\n",
      "06/22/2022  10:56 AM            13,714 14-Fundamental_Spaces_in-class-assignment(1).ipynb\n",
      "04/29/2021  12:44 AM    <DIR>          3D Objects\n",
      "06/01/2022  10:34 AM             2,675 6-1 LA Practice .ipynb\n",
      "06/01/2022  09:50 AM    <DIR>          anaconda3\n",
      "06/28/2022  07:51 AM             6,858 answercheck.py\n",
      "10/06/2020  08:59 PM    <DIR>          Apple\n",
      "06/27/2022  10:33 AM            33,584 banner.png\n",
      "06/27/2022  10:33 AM            53,166 beaumont.png\n",
      "06/27/2022  10:33 AM            31,359 billboard.png\n",
      "08/22/2021  02:05 PM               151 BullseyeCoverageError.txt\n",
      "06/28/2022  07:57 AM             2,174 Central Limit Theorem .ipynb\n",
      "04/29/2021  12:44 AM    <DIR>          Contacts\n",
      "06/28/2022  09:43 AM    <DIR>          data_science_bridge_curriculum\n",
      "01/04/2021  01:01 PM    <DIR>          Documents\n",
      "06/28/2022  09:13 AM    <DIR>          Downloads\n",
      "06/10/2022  10:50 AM             2,193 Example 6.10 OneNote .ipynb\n",
      "04/29/2021  12:44 AM    <DIR>          Favorites\n",
      "06/17/2022  11:00 PM            69,632 HW1-Systems_of_linear_equations-STUDENT(1).ipynb\n",
      "06/27/2022  10:38 AM           335,400 HW2-Affine_transform-STUDENT(1).ipynb\n",
      "06/24/2022  10:36 AM            22,996 Intro_to_Statistics.ipynb\n",
      "04/29/2021  12:44 AM    <DIR>          Links\n",
      "04/29/2021  12:44 AM    <DIR>          Music\n",
      "08/01/2021  10:31 AM    <DIR>          OneDrive\n",
      "06/02/2022  08:50 PM            76,621 PRACTICE Chapter 2 Vectors-Copy1.ipynb\n",
      "06/02/2022  08:51 PM            76,621 PRACTICE Chapter 2 Vectors.ipynb\n",
      "06/13/2022  09:11 AM             9,464 Practice_6_10.ipynb\n",
      "06/28/2022  07:56 AM             2,103 PTest.ipynb\n",
      "12/21/2021  06:50 PM    <DIR>          PycharmProjects\n",
      "06/03/2022  09:21 AM            25,465 Python_practice_6_1 (1).ipynb\n",
      "06/07/2022  09:34 PM             4,627 Python_practice_6_6.ipynb\n",
      "04/29/2021  12:44 AM    <DIR>          Saved Games\n",
      "04/29/2021  12:44 AM    <DIR>          Searches\n",
      "06/27/2022  10:33 AM            46,172 sparty.png\n",
      "06/02/2022  10:58 PM             2,752 Untitled.ipynb\n",
      "04/29/2021  12:44 AM    <DIR>          Videos\n",
      "06/28/2022  07:48 AM            42,345 _Template.ipynb\n",
      "06/08/2022  10:08 AM    <DIR>          __pycache__\n",
      "              32 File(s)      1,516,876 bytes\n",
      "              23 Dir(s)  401,290,428,416 bytes free\n"
     ]
    }
   ],
   "source": [
    "!dir\n",
    "\n"
   ]
  },
  {
   "cell_type": "code",
   "execution_count": 1,
   "id": "8e746444",
   "metadata": {},
   "outputs": [
    {
     "data": {
      "text/plain": [
       "('answercheck.py', <http.client.HTTPMessage at 0x20990c87880>)"
      ]
     },
     "execution_count": 1,
     "metadata": {},
     "output_type": "execute_result"
    }
   ],
   "source": [
    "##ANSWER##\n",
    "#Install answercheck in current director\n",
    "from urllib.request import urlretrieve\n",
    "urlretrieve('https://raw.githubusercontent.com/colbrydi/jupytercheck/master/answercheck.py', filename='answercheck.py')\n",
    "##ANSWER##"
   ]
  },
  {
   "cell_type": "markdown",
   "id": "b7598d9e",
   "metadata": {},
   "source": [
    "# Central Limit Theroem \n",
    "Understanding and computing using the Central Limit Theorem (CLT)"
   ]
  },
  {
   "cell_type": "markdown",
   "id": "74fcd9bf",
   "metadata": {},
   "source": [
    "# Description \n",
    "The Central Limit Theorem states that the distribution of sample means approximates a normal distribution as the sample size gets larger, regardless of the population's distribution. "
   ]
  },
  {
   "cell_type": "markdown",
   "id": "2238469c",
   "metadata": {},
   "source": [
    "# Training Materials \n",
    "https://www.khanacademy.org/math/ap-statistics/sampling-distribution-ap/what-is-sampling-distribution/v/central-limit-theorem\n",
    "\n",
    "https://www.youtube.com/watch?v=4YLtvNeRIrg"
   ]
  },
  {
   "cell_type": "markdown",
   "id": "bcc501fa",
   "metadata": {},
   "source": [
    "# Self Assessment "
   ]
  },
  {
   "cell_type": "code",
   "execution_count": null,
   "id": "aff596ae",
   "metadata": {},
   "outputs": [],
   "source": []
  }
 ],
 "metadata": {
  "kernelspec": {
   "display_name": "Python 3 (ipykernel)",
   "language": "python",
   "name": "python3"
  },
  "language_info": {
   "codemirror_mode": {
    "name": "ipython",
    "version": 3
   },
   "file_extension": ".py",
   "mimetype": "text/x-python",
   "name": "python",
   "nbconvert_exporter": "python",
   "pygments_lexer": "ipython3",
   "version": "3.9.12"
  }
 },
 "nbformat": 4,
 "nbformat_minor": 5
}
