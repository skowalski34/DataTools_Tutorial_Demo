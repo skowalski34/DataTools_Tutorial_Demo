{
 "cells": [
  {
   "cell_type": "code",
   "execution_count": 3,
   "id": "15c5a985",
   "metadata": {},
   "outputs": [
    {
     "data": {
      "text/plain": [
       "('answercheck.py', <http.client.HTTPMessage at 0x22adaab7c40>)"
      ]
     },
     "execution_count": 3,
     "metadata": {},
     "output_type": "execute_result"
    }
   ],
   "source": [
    "##ANSWER##\n",
    "#Install answercheck in current director\n",
    "from urllib.request import urlretrieve\n",
    "urlretrieve('https://raw.githubusercontent.com/colbrydi/jupytercheck/master/answercheck.py', filename='answercheck.py')\n",
    "##ANSWER##"
   ]
  },
  {
   "cell_type": "markdown",
   "id": "031076bc",
   "metadata": {},
   "source": [
    "# PTest \n",
    "Understanding and computing using the Ptest "
   ]
  },
  {
   "cell_type": "markdown",
   "id": "87deb2e1",
   "metadata": {},
   "source": [
    "# Description \n",
    "A p-test is a statistical method to test the validity of a commonly accepted claim about a population. That commonly accepted claim is called a null hypothesis. Based on the p-value, we reject or fail to reject a null hypothesis.\n"
   ]
  },
  {
   "cell_type": "markdown",
   "id": "a182669f",
   "metadata": {},
   "source": [
    "# Training Materials \n",
    "https://www.youtube.com/watch?v=KS6KEWaoOOE\n",
    "\n",
    "https://www.youtube.com/watch?v=8Aw45HN5lnA"
   ]
  },
  {
   "cell_type": "markdown",
   "id": "0c7fd81c",
   "metadata": {},
   "source": [
    "# Self Assessment "
   ]
  },
  {
   "cell_type": "code",
   "execution_count": null,
   "id": "6b14d8f0",
   "metadata": {},
   "outputs": [],
   "source": []
  }
 ],
 "metadata": {
  "kernelspec": {
   "display_name": "Python 3 (ipykernel)",
   "language": "python",
   "name": "python3"
  },
  "language_info": {
   "codemirror_mode": {
    "name": "ipython",
    "version": 3
   },
   "file_extension": ".py",
   "mimetype": "text/x-python",
   "name": "python",
   "nbconvert_exporter": "python",
   "pygments_lexer": "ipython3",
   "version": "3.9.12"
  }
 },
 "nbformat": 4,
 "nbformat_minor": 5
}
