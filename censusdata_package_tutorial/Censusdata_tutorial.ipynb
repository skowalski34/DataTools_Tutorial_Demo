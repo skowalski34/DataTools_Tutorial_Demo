{
 "cells": [
  {
   "cell_type": "markdown",
   "id": "7a42b048",
   "metadata": {},
   "source": [
    "# U.S. Census Data Tutorial"
   ]
  },
  {
   "cell_type": "code",
   "execution_count": null,
   "id": "319735dc",
   "metadata": {},
   "outputs": [],
   "source": [
    "#!pip install censusdata"
   ]
  },
  {
   "cell_type": "markdown",
   "id": "7baf9942",
   "metadata": {},
   "source": [
    "If censusdata package was not in your enviroment, make sure to uncommond above line to pip it.\n",
    "\n",
    "Reference of the [CensusData library](https://jtleider.github.io/censusdata/index.html)"
   ]
  },
  {
   "cell_type": "code",
   "execution_count": null,
   "id": "83acab08",
   "metadata": {},
   "outputs": [],
   "source": [
    "import pandas as pd\n",
    "import re\n",
    "import numpy as np\n",
    "import censusdata"
   ]
  },
  {
   "cell_type": "markdown",
   "id": "04dc2a46",
   "metadata": {},
   "source": [
    "### Main Methods\n",
    "[CensusData API Documentation](https://jtleider.github.io/censusdata/api.html)"
   ]
  },
  {
   "cell_type": "code",
   "execution_count": null,
   "id": "333e3815",
   "metadata": {},
   "outputs": [],
   "source": [
    "# Search for ACS 2015-2019 5-year estimate variables where the concept \n",
    "# includes the text 'population'.\n",
    "sample = censusdata.search('acs5', 2019, 'concept', \n",
    "                           lambda value: re.search('population', value, re.IGNORECASE))"
   ]
  },
  {
   "cell_type": "markdown",
   "id": "cb0b1ea5",
   "metadata": {},
   "source": [
    "**Parameters:**\t\n",
    "* src (str) – Census data source: ```‘acs1’``` for **ACS 1-year estimates**, ```‘acs5’``` for **ACS 5-year estimates**, ```‘acs3’``` for **ACS 3-year estimates**, ```‘acsse’``` for **ACS 1-year supplemental estimates**, ```‘sf1’``` for **SF1 data**.\n",
    "* year (int) – Year of data.\n",
    "* field (str) – Field in which to search.\n",
    "* criterion (str or function) – Search criterion. Either string to search for, or a function which will be passed the value of field and return True if a match and False otherwise.\n",
    "* tabletype (str, optional) – Type of table from which variables are drawn (only applicable to ACS data). Options are ```‘detail’``` (detail tables), ```‘subject’``` (subject tables), ```‘profile’``` (data profile tables), ```‘cprofile’``` (comparison profile tables).\n",
    "\n",
    "**Returns:**\t\n",
    "List of 3-tuples containing variable names, concepts, and labels matching the search criterion.\n",
    "\n",
    "**Return type:**\t\n",
    "list"
   ]
  },
  {
   "cell_type": "code",
   "execution_count": null,
   "id": "4984d1b7",
   "metadata": {},
   "outputs": [],
   "source": [
    "print(len(sample))"
   ]
  },
  {
   "cell_type": "code",
   "execution_count": null,
   "id": "8e00d1b3",
   "metadata": {},
   "outputs": [],
   "source": [
    "sample"
   ]
  },
  {
   "cell_type": "markdown",
   "id": "ede1fed8",
   "metadata": {},
   "source": [
    "This would be the sample amount we get based on what we use to search. In this case, there are 10765 samples which are ACS 5-year estimates for 2019 include the text 'population'."
   ]
  },
  {
   "cell_type": "code",
   "execution_count": null,
   "id": "dbffaeca",
   "metadata": {},
   "outputs": [],
   "source": [
    "print(sample[0])"
   ]
  },
  {
   "cell_type": "markdown",
   "id": "07ae53a2",
   "metadata": {},
   "source": [
    "Let's use the first sample file as an example. Based on the result from above, the first sample is called: 'B01003_001E', which is a total population table under the parent table B01003. "
   ]
  },
  {
   "cell_type": "markdown",
   "id": "a97df25b",
   "metadata": {},
   "source": [
    "After you know the parent table you're interested in you can use the ```printtable``` function to get a clean readout of all the subtables in order to check if there are other subtables we might interested about."
   ]
  },
  {
   "cell_type": "code",
   "execution_count": null,
   "id": "fe3d19e4",
   "metadata": {},
   "outputs": [],
   "source": [
    "censusdata.printtable(censusdata.censustable('acs5', 2019, 'B01003'))"
   ]
  },
  {
   "cell_type": "markdown",
   "id": "60ac12ee",
   "metadata": {},
   "source": [
    "### Data download"
   ]
  },
  {
   "cell_type": "markdown",
   "id": "d74c7914",
   "metadata": {},
   "source": [
    "If you want download data based on some state, county etc. Start at **step 1**, if not start at **step 3**.\n",
    "\n",
    "**Step 1** If you want to download the data for some States, you need to find the geography code for it. And function ```geographies``` is build for that"
   ]
  },
  {
   "cell_type": "code",
   "execution_count": null,
   "id": "501fec9c",
   "metadata": {},
   "outputs": [],
   "source": [
    "states = censusdata.geographies(censusdata.censusgeo([('state', '*')]), 'acs5', 2019)\n",
    "print(states['Michigan'])"
   ]
  },
  {
   "cell_type": "code",
   "execution_count": null,
   "id": "57c5c75f",
   "metadata": {},
   "outputs": [],
   "source": [
    "states"
   ]
  },
  {
   "cell_type": "markdown",
   "id": "6de55a1a",
   "metadata": {},
   "source": [
    "**Step 2** Also if you want it be county level you need do almost the same thing but by adding county after state. For example:"
   ]
  },
  {
   "cell_type": "code",
   "execution_count": null,
   "id": "bb5ad44b",
   "metadata": {},
   "outputs": [],
   "source": [
    "counties = censusdata.geographies(censusdata.censusgeo([('state', '26'), ('county', '*')]), 'acs5', 2019)\n",
    "print(counties['Wayne County, Michigan'])"
   ]
  },
  {
   "cell_type": "code",
   "execution_count": null,
   "id": "7af3fe70",
   "metadata": {},
   "outputs": [],
   "source": [
    "counties"
   ]
  },
  {
   "cell_type": "markdown",
   "id": "e610da56",
   "metadata": {},
   "source": [
    "**Step 3** Now, is time to download what you want. Example based on Michigan, Wayne County. If you don't have state and county code, leave that as ```'*'```."
   ]
  },
  {
   "cell_type": "code",
   "execution_count": null,
   "id": "d7dac8c6",
   "metadata": {},
   "outputs": [],
   "source": [
    "data = censusdata.download('acs5', 2019, censusdata.censusgeo([('state', '26'),\n",
    "                                                               ('county', '163'),\n",
    "                                                               ('block group', '*')]),\n",
    "                          ['B01003_001E'])"
   ]
  },
  {
   "cell_type": "code",
   "execution_count": null,
   "id": "6f943b82",
   "metadata": {},
   "outputs": [],
   "source": [
    "data"
   ]
  },
  {
   "cell_type": "markdown",
   "id": "d19c7015",
   "metadata": {},
   "source": [
    "And this is the length of the data we get."
   ]
  },
  {
   "cell_type": "code",
   "execution_count": null,
   "id": "44f953f0",
   "metadata": {},
   "outputs": [],
   "source": [
    "len(data)"
   ]
  },
  {
   "cell_type": "markdown",
   "id": "57c5df9b",
   "metadata": {},
   "source": [
    "### Extra (data formating, slice)\n",
    "\n",
    "This part are some extra step if you need, such as change the column name by using pandas, and slice it based on Census Tract by using ```census_cut``` in ```Help_Functions```."
   ]
  },
  {
   "cell_type": "code",
   "execution_count": null,
   "id": "1af89c80",
   "metadata": {},
   "outputs": [],
   "source": [
    "column_name = ['TOTAL POPULATION']\n",
    "data.columns = column_name"
   ]
  },
  {
   "cell_type": "code",
   "execution_count": null,
   "id": "02d0bfed",
   "metadata": {},
   "outputs": [],
   "source": [
    "new_indices = []\n",
    "for index in data.index.tolist():\n",
    "    new_indices.append(index)\n",
    "\n",
    "data.index = new_indices"
   ]
  },
  {
   "cell_type": "code",
   "execution_count": null,
   "id": "9a537ede",
   "metadata": {
    "scrolled": true
   },
   "outputs": [],
   "source": [
    "data.head()"
   ]
  },
  {
   "cell_type": "markdown",
   "id": "4181c879",
   "metadata": {},
   "source": [
    "Sum up the total people in Wayne County Michigan"
   ]
  },
  {
   "cell_type": "code",
   "execution_count": null,
   "id": "73746a43",
   "metadata": {},
   "outputs": [],
   "source": [
    "data['TOTAL POPULATION'].sum()"
   ]
  },
  {
   "cell_type": "markdown",
   "id": "54f9165e",
   "metadata": {},
   "source": [
    "### ```census_cut``` usage"
   ]
  },
  {
   "cell_type": "code",
   "execution_count": null,
   "id": "6f39eed2",
   "metadata": {},
   "outputs": [],
   "source": [
    "from Help_Functions import census_cut\n",
    "import re"
   ]
  },
  {
   "cell_type": "markdown",
   "id": "229c79aa",
   "metadata": {},
   "source": [
    "For example, we want the data for some areas based on Census Tracts are 5303, 5304, 5316, 5317"
   ]
  },
  {
   "cell_type": "code",
   "execution_count": null,
   "id": "58749d91",
   "metadata": {},
   "outputs": [],
   "source": [
    "Tracts = ['Census Tract 5303', 'Census Tract 5304','Census Tract 5316', 'Census Tract 5317']"
   ]
  },
  {
   "cell_type": "code",
   "execution_count": null,
   "id": "336301fe",
   "metadata": {},
   "outputs": [],
   "source": [
    "df = census_cut(Tracts, data)\n",
    "df"
   ]
  },
  {
   "cell_type": "code",
   "execution_count": null,
   "id": "450b4bd1",
   "metadata": {},
   "outputs": [],
   "source": []
  }
 ],
 "metadata": {
  "kernelspec": {
   "display_name": "Python 3 (ipykernel)",
   "language": "python",
   "name": "python3"
  },
  "language_info": {
   "codemirror_mode": {
    "name": "ipython",
    "version": 3
   },
   "file_extension": ".py",
   "mimetype": "text/x-python",
   "name": "python",
   "nbconvert_exporter": "python",
   "pygments_lexer": "ipython3",
   "version": "3.10.2"
  }
 },
 "nbformat": 4,
 "nbformat_minor": 5
}
