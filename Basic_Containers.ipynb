{
 "cells": [
  {
   "cell_type": "markdown",
   "id": "3c2a4f39",
   "metadata": {},
   "source": [
    "# Basic Containers\n",
    "Understanding and Using Basic Containers in Python"
   ]
  },
  {
   "cell_type": "markdown",
   "id": "2b78245b",
   "metadata": {},
   "source": [
    "\n",
    "![Google Python Symbol- Image found in the public domain](https://freesvg.org/img/387.png)\n",
    "\n",
    "https://freesvg.org/img/387.png\n",
    "\n",
    "Python Language Logo from Free SVG\n"
   ]
  },
  {
   "cell_type": "markdown",
   "id": "71e867d9",
   "metadata": {},
   "source": [
    "## Description\n",
    "Many times, in using python, there will be a need to store values. A common way to do so and store the values under a single variable is to use basic containers. This page will breakdown the common container types in Python. \n"
   ]
  },
  {
   "cell_type": "markdown",
   "id": "58ec20e8",
   "metadata": {},
   "source": [
    "## Self Assessment\n",
    "\n",
    "Click the following link to assess your knowledge on Basic Containers:\n",
    "https://realpython.com/quizzes/pybasics-tuples-lists-dicts/ "
   ]
  },
  {
   "cell_type": "markdown",
   "id": "5d237ca9",
   "metadata": {},
   "source": [
    "## Training Materials\n",
    "\n",
    "\n"
   ]
  },
  {
   "cell_type": "markdown",
   "id": "21f9b14e",
   "metadata": {},
   "source": [
    "Video Description (URL Link to video)"
   ]
  },
  {
   "cell_type": "code",
   "execution_count": 1,
   "id": "deeec8f7",
   "metadata": {},
   "outputs": [
    {
     "data": {
      "image/jpeg": "[encoded data removed]",
      "text/html": [
       "\n",
       "        <iframe\n",
       "            width=\"100%\"\n",
       "            height=\"360\"\n",
       "            src=\"https://www.youtube.com/embed/aBqTgR-gP3g?cc_load_policy=True\"\n",
       "            frameborder=\"0\"\n",
       "            allowfullscreen\n",
       "            \n",
       "        ></iframe>\n",
       "        "
      ],
      "text/plain": [
       "<IPython.lib.display.YouTubeVideo at 0x1cd12db60d0>"
      ]
     },
     "execution_count": 1,
     "metadata": {},
     "output_type": "execute_result"
    }
   ],
   "source": [
    "from IPython.display import YouTubeVideo\n",
    "YouTubeVideo(\"aBqTgR-gP3g\",width=\"100%\", height=360, cc_load_policy=True)"
   ]
  },
  {
   "cell_type": "raw",
   "id": "08e8ef5c",
   "metadata": {},
   "source": [
    "|Container Type|Mutable or Immutable|Initialization *Without* Values|Initializtion *With* Values|Adding Values to Container|Removing Values from Container|Modifying Values|Access Method|Notable Operations and Additional Information|\n",
    "|---|---|---|---|---|---|---|---|---|\n",
    "|**List**| Mutable |<ul><li>`a=list()` </li><li> `a=[]` </li></ul> | `a=['1', '2', '3']`|  <ul><li>` list.append(item) #Adds item to the end of the list` </li><li> ` list.insert(index, item) #Adds item to the specified index in the list`</li></ul>|`list.remove(item) #removes the first instance of 'item' from the list. If there is not such element, this will cause an error`|`>>> a[0] = 'cat'` <br> `>>> a` <br> `['cat', '2', '3']` |Access by index: <br> `>>> a[0]` <br> `1`|See webpage at http://www.linuxtopia.org/online_books/programming_books/python_programming/python_ch14s07.html for some helpful methods when dealing with lists.|\n",
    "|**Dictionary**|Mutable| `student={}` | `>>> student={'name': 'John Doe', 'age': 22, 'college': 'MSU'}` | `>>> student['major']='Computer Science'` <br> `>>> student` <br> `{'name': 'John Doe', 'age': 22, 'college': 'MSU', 'major': 'Computer Science'}` | `del dictName[keyName] #This method removes all entries associated with the given key` | `>>> student['age'] = 23` <br> `>>> student` <br> `{'name': 'John Doe', 'age': 23, 'college': 'MSU', 'major': 'Computer Science'}`| Access by key word. Note that this key **must** be a string. <br> `>>>student['college']` <br> `MSU`| The 'in' keyword can be very helpful with dictionaries. Ex: <br><ul><li>`'k' in dict #Returns true if key 'k' is in dictionary dict`</li><li>`'k' not in dict #Returns true if key 'k' is not in dicitonary dict`</li><li>`for key in dict #This will iterate over all keys in dictionary dict`</li></ul> <br>See webpage at http://www.python-course.eu/python3_dictionaries.php for additional helpful methods and operations|\n",
    "|**Set**|Mutable. However the objects contained within a set **must** be immutable. | `s=set()`|`s=set(['a','b','c'])` | `s.add(item)`|<ul><li> `set.discard(item) #If item is in the set, the item is removed, otherwise nothing happens` </li><li> `set.remove(item) #If item is in the set, the item is removed, otherwise raise a KeyError` </li><li> `set.pop() #Remove and return an arbitrary element from the set. If the set is empty, raise a KeyError` </li>| Sets are unordered, therefore indexing does not mean anything. To modify a set, you must directly add or remove elements. |`>>> set.pop() #This will remove and return an arbitrary element from the set`|Some helpful methods include:<ul><li>`difference()`</li><li>`intersection()`</li><li>`isdisjoint()`</li><li>`union()`</li></ul><br> See webpage at http://www.programiz.com/python-programming/set for additional helpful methods and operations|\n",
    "| **Tuple** |Immutable|<ul><li>`t=()`</li><li> `t=tuple()`</li><ul>|<ul><li>1-tuple:<br>`t=('Hello',)`</li><li> 2-tuple:<br> `t=('Hello', 'Goodbye')`</li><ul>|N/A|N/A|N/A|`t=('Hello','Goodbye','Goodnight')`<ul><li>Access By Index: <br> `>>> t[0]` <br> `'Hello'` </li><br><li> Access By Slice <br> `>>>t[0:1:2]` <br> `('Hello','Goodbye')`</li></ul>|<ul><li>Packing and Unpacking</li><br><li>Tuple to List: `list(tupleName)`</li></ul>|\n",
    "| **NumPy Array\\***|Mutable|`a=np.array([])`| `a=np.array([1,2,3,4,5])` | <ul><li>`np.insert(arrayName,index,values,axis) #Inserts a value for an array at the given index.` </li><li>`np.append(arrayName,value,axis) #Appends values to the end of an array.`</li></ul>|`np.array(array,index/indices,axis) #Returns a new array with the given index or array of indices deleted on the given axis`|`>>> a[4] = 12` <br> `array([ 1,  2,  3,  4, 12])` <br><br> For additional information on manipulating NumPy Arrays see the webpage at http://docs.scipy.org/doc/numpy/reference/routines.array-manipulation.html |<ul><li>Access By Index: <br> `>>> a[0] `<br>` 1 `</li><li>Access By Slice: <br> `>>> a[0:5:2] `<br> `array([1, 3, 5])` </li></ul><br>See webpage at http://docs.scipy.org/doc/numpy/reference/arrays.indexing.html for further information about indexing of NumPy Arrays|See webpages at http://www.scipy-lectures.org/intro/numpy/array_object.html and https://docs.scipy.org/doc/numpy-dev/user/quickstart.html for additional information on NumPy Arrays|\n",
    "    \n",
    "\\*Use of the NumPy Array requires the NumPy Python Module. Assuming import statement is \"import numpy as np\""
   ]
  },
  {
   "cell_type": "markdown",
   "id": "8bdbe577",
   "metadata": {},
   "source": [
    "List – a data structure in Python that is a mutable ordered sequence of elements. \n",
    "\tmy_list = [1, “world”, 5.9]\n",
    "\n",
    "Dictionary – a mutable data storage method which is used to store data values in key : value pairs. \n",
    "\tmy_dict = {‘msu’: 1, ‘spartans’ : ‘green’, “mcdonel’ : ‘hall’}\n",
    " \n",
    "Tuple – used to store multiple items in a single variable.\n",
    "\tmy_tuple = (“apple”. “bananas”, “cherry”, “strawberry”)\n",
    "\n",
    "NumPy Array – a grid of values, all of the same type, and is indexed by a tuple of nonnegative integers. \n",
    "\timport numpy as np\n",
    "\tarr = np.array(1, 2, 3, 4, 5, 6)\n",
    "\n",
    "\tprint(arr)\n",
    "\n",
    "\toutput: [1, 2, 3, 4, 5, 6]\n",
    "\n",
    "Array – a collection of items stored at contiguous memory locations. Values can be accessed by referring to an index number. \n",
    "\tcars = [“bmw”, “jeep”, “toyota”, “kia”]\n",
    "\n",
    "\n",
    "Map – a built-in function that allows the user to process and transform all the items in a container in an iterable(such as a list or dictionary without using a loop.\n",
    "\t# Return double of n\n",
    "def addition(n):\n",
    "   \t\t return n + n\n",
    "    \n",
    "    # We double all numbers using map()\n",
    "    numbers = (1, 2, 3, 4)\n",
    "    result = map(addition, numbers)\n",
    "    print(list(result))\n",
    "\t\n",
    "\toutput: [2, 4, 6, 8]\n"
   ]
  },
  {
   "cell_type": "markdown",
   "id": "44b461a0",
   "metadata": {},
   "source": [
    "---\n",
    "\n",
    "Written by Suliah Apatira, Michigan State University  \n",
    "As part of the Data Science Bridge Project \n",
    "    \n",
    "<a rel=\"license\" href=\"http://creativecommons.org/licenses/by-nc/4.0/\"><img alt=\"Creative Commons License\" style=\"border-width:0\" src=\"https://i.creativecommons.org/l/by-nc/4.0/88x31.png\" /></a><br />This work is licensed under a <a rel=\"license\" href=\"http://creativecommons.org/licenses/by-nc/4.0/\">Creative Commons Attribution-NonCommercial 4.0 International License</a>."
   ]
  }
 ],
 "metadata": {
  "kernelspec": {
   "display_name": "Python 3 (ipykernel)",
   "language": "python",
   "name": "python3"
  },
  "language_info": {
   "codemirror_mode": {
    "name": "ipython",
    "version": 3
   },
   "file_extension": ".py",
   "mimetype": "text/x-python",
   "name": "python",
   "nbconvert_exporter": "python",
   "pygments_lexer": "ipython3",
   "version": "3.9.12"
  }
 },
 "nbformat": 4,
 "nbformat_minor": 5
}
