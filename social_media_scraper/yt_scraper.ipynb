{
 "cells": [
  {
   "cell_type": "markdown",
   "metadata": {},
   "source": [
    "# YouTube Scraper\n",
    "\n",
    "## Kelloggs Group "
   ]
  },
  {
   "cell_type": "markdown",
   "metadata": {},
   "source": [
    "### 1. Getting Project Dependecies\n",
    "\n",
    "run **pip install -r requirements.txt** in your terminal\n",
    "\n",
    "This installs pandas, numpy and [pytchat](https://pypi.org/project/pytchat/)"
   ]
  },
  {
   "cell_type": "code",
   "execution_count": null,
   "metadata": {},
   "outputs": [],
   "source": [
    "#!pip install -r requirements.txt"
   ]
  },
  {
   "cell_type": "code",
   "execution_count": null,
   "metadata": {},
   "outputs": [],
   "source": [
    "import pandas as pd\n",
    "import pytchat\n",
    "import matplotlib.pyplot as plt\n",
    "import time"
   ]
  },
  {
   "cell_type": "code",
   "execution_count": null,
   "metadata": {},
   "outputs": [],
   "source": [
    "def get_yt_data(chat,run_time=10, show_chat=True):\n",
    "    \"\"\"\n",
    "    Takes in a chat instance and runtime and returns\n",
    "    a dataframe with all chat data in that time\n",
    "    \n",
    "    :param chat: pychat instance\n",
    "    :param run_time: int with total runtime\n",
    "    :param show_chat: boolean telling chat to print or not\n",
    "    :return: pandas dataframe\n",
    "    \"\"\"\n",
    "    start_time = time.time()\n",
    "    send_time = []\n",
    "    name = []\n",
    "    message = []\n",
    "    while chat.is_alive():\n",
    "        for c in chat.get().sync_items():\n",
    "            send_time.append(c.datetime)\n",
    "            name.append(c.author.name)\n",
    "            message.append(c.message)\n",
    "            \n",
    "            if show_chat:\n",
    "                print(f\"{c.datetime} [{c.author.name}]- {c.message}\")\n",
    "\n",
    "            # TODO: Runtime is too small then assume an error?\n",
    "            if time.time() - start_time >= run_time:\n",
    "                return pd.DataFrame({'time':send_time,'name':name,'message':message})\n",
    "    "
   ]
  },
  {
   "cell_type": "markdown",
   "metadata": {},
   "source": [
    "### 2. Scraping your YouTube data\n",
    "\n",
    "- Copy the live YouTube link\n",
    "\n",
    "- Make it a string and set it equal to the **yt_link** variable\n",
    "\n",
    "- Run cell and get data"
   ]
  },
  {
   "cell_type": "code",
   "execution_count": null,
   "metadata": {},
   "outputs": [],
   "source": [
    "yt_link = \"https://www.youtube.com/watch?v=LodADaKUWp8\"\n",
    "chat = pytchat.create(video_id=yt_link)\n",
    "chat_data = get_yt_data(chat,60,False)\n",
    "chat_data.head()"
   ]
  },
  {
   "cell_type": "code",
   "execution_count": null,
   "metadata": {},
   "outputs": [],
   "source": [
    "chat_data"
   ]
  },
  {
   "cell_type": "markdown",
   "metadata": {},
   "source": [
    "### 3. How can this be used?\n",
    "- This could be used to scrape data from youtube channels that talk over relevant topics to see what this are being said the most in reference to a project.\n",
    "\n",
    "- Seeing what users are most active\n",
    "\n",
    "- Seeing what times are most active"
   ]
  },
  {
   "cell_type": "code",
   "execution_count": null,
   "metadata": {},
   "outputs": [],
   "source": [
    "plt.figure(figsize = (12,7))\n",
    "plt.hist(chat_data['name'].value_counts());"
   ]
  },
  {
   "cell_type": "markdown",
   "metadata": {},
   "source": [
    "TODO: put names in x-axis"
   ]
  },
  {
   "cell_type": "markdown",
   "metadata": {},
   "source": [
    "### 4. References to libraries used\n",
    "\n",
    "- [pytchat](https://pypi.org/project/pytchat/)\n",
    "\n",
    "- [pandas](https://pandas.pydata.org/)\n",
    "\n",
    "- [matplotlib](https://matplotlib.org/)"
   ]
  }
 ],
 "metadata": {
  "interpreter": {
   "hash": "9fae0222e7ef579c3cc0692d7cdb413546afb4e5626ba30c1f89c4981fa26feb"
  },
  "kernelspec": {
   "display_name": "Python 3 (ipykernel)",
   "language": "python",
   "name": "python3"
  },
  "language_info": {
   "codemirror_mode": {
    "name": "ipython",
    "version": 3
   },
   "file_extension": ".py",
   "mimetype": "text/x-python",
   "name": "python",
   "nbconvert_exporter": "python",
   "pygments_lexer": "ipython3",
   "version": "3.10.2"
  }
 },
 "nbformat": 4,
 "nbformat_minor": 2
}
