{
 "cells": [
  {
   "cell_type": "markdown",
   "id": "950c4fef",
   "metadata": {},
   "source": [
    "# Whitespace Sensitivity"
   ]
  },
  {
   "cell_type": "markdown",
   "id": "019e60ef",
   "metadata": {},
   "source": [
    "Short Title: Indentation"
   ]
  },
  {
   "cell_type": "markdown",
   "id": "c61cba51",
   "metadata": {},
   "source": [
    "# Description"
   ]
  },
  {
   "cell_type": "markdown",
   "id": "55abe61f",
   "metadata": {},
   "source": [
    "Whitespaces or indedentation act as the spaces at the very start or inside of a code for enhanced readibility in Python. It is used to designate a block of code inside of a program. Any code without indentation or white space is attached to a specific source file. Whitespaces tend to be sensitive due to their ability to completely effect the possibilities of an output of a code or interpretation of a statement ultimately causing an error to pop up.\n",
    "\n",
    "It is important to understand, whitespace must always be consistant throughout code. So if a programmer starts with 5 spaces, 5 space must be used throughout the remainder of the block of code or else a syntax error will not allow the code to be ran."
   ]
  },
  {
   "cell_type": "markdown",
   "id": "f8796bb7",
   "metadata": {},
   "source": [
    "# Examples"
   ]
  },
  {
   "cell_type": "markdown",
   "id": "410f3f67",
   "metadata": {},
   "source": [
    "'' - space\n",
    "\n",
    "/t - tab"
   ]
  },
  {
   "cell_type": "markdown",
   "id": "880c1d84",
   "metadata": {},
   "source": [
    "# Learning Materials"
   ]
  },
  {
   "cell_type": "code",
   "execution_count": 4,
   "id": "dfad44a7",
   "metadata": {},
   "outputs": [
    {
     "data": {
      "image/jpeg": "[encoded data removed]",
      "text/html": [
       "\n",
       "        <iframe\n",
       "            width=\"640\"\n",
       "            height=\"360\"\n",
       "            src=\"https://www.youtube.com/embed/vgefSv5k-o4?cc_load_policy=True\"\n",
       "            frameborder=\"0\"\n",
       "            allowfullscreen\n",
       "            \n",
       "        ></iframe>\n",
       "        "
      ],
      "text/plain": [
       "<IPython.lib.display.YouTubeVideo at 0x7ff3796ec7c0>"
      ]
     },
     "execution_count": 4,
     "metadata": {},
     "output_type": "execute_result"
    }
   ],
   "source": [
    "from IPython.display import YouTubeVideo\n",
    "YouTubeVideo(\"vgefSv5k-o4\",width=640,height=360, cc_load_policy=True)"
   ]
  },
  {
   "cell_type": "markdown",
   "id": "50fdb729",
   "metadata": {},
   "source": [
    "10 minutes"
   ]
  },
  {
   "cell_type": "markdown",
   "id": "4ae1c549",
   "metadata": {},
   "source": [
    "# Self-Assessment"
   ]
  },
  {
   "cell_type": "markdown",
   "id": "a2e5459e",
   "metadata": {},
   "source": [
    "Create a code that tests whitespace values."
   ]
  },
  {
   "cell_type": "code",
   "execution_count": 6,
   "id": "80ee2cd9",
   "metadata": {},
   "outputs": [
    {
     "name": "stdout",
     "output_type": "stream",
     "text": [
      "printable Value is:  \n",
      "printable Value is:  \n",
      "printable Value is:  \n",
      "printable Value is:  \n",
      "printable Value is:  \n",
      "printable Value is:  \n"
     ]
    }
   ],
   "source": [
    "#Put your answer here\n",
    "# import string \n",
    "import string \n",
    "    \n",
    "# An input string.\n",
    "Sentence = \"What time does lunch begin at Shaw?\"\n",
    "  \n",
    "for i in Sentence:\n",
    "      \n",
    "    # determines if whitespace is found in code\n",
    "    if i in string.whitespace:\n",
    "          \n",
    "        # Prints the number of whitespace values and its characters\n",
    "        print(\"printable Value is: \" + i)"
   ]
  },
  {
   "cell_type": "code",
   "execution_count": null,
   "id": "351205d1",
   "metadata": {},
   "outputs": [],
   "source": []
  }
 ],
 "metadata": {
  "kernelspec": {
   "display_name": "Python 3 (ipykernel)",
   "language": "python",
   "name": "python3"
  },
  "language_info": {
   "codemirror_mode": {
    "name": "ipython",
    "version": 3
   },
   "file_extension": ".py",
   "mimetype": "text/x-python",
   "name": "python",
   "nbconvert_exporter": "python",
   "pygments_lexer": "ipython3",
   "version": "3.9.12"
  }
 },
 "nbformat": 4,
 "nbformat_minor": 5
}
