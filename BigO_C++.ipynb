{
 "cells": [
  {
   "cell_type": "code",
   "execution_count": null,
   "id": "fc73d74c",
   "metadata": {},
   "outputs": [],
   "source": [
    "##ANSWER##\n",
    "#Install answercheck in current director\n",
    "from urllib.request import urlretrieve\n",
    "urlretrieve('https://raw.githubusercontent.com/colbrydi/jupytercheck/master/answercheck.py', filename='answercheck.py')\n",
    "##ANSWER##"
   ]
  },
  {
   "cell_type": "markdown",
   "id": "3c2a4f39",
   "metadata": {},
   "source": [
    "# Big O Notation\n",
    "Quantifying the efficiency of a program by looking at the amount of time it takes to run and memory space it takes up."
   ]
  },
  {
   "cell_type": "markdown",
   "id": "2b78245b",
   "metadata": {},
   "source": [
    "**_Optional_** Motivating picture: \n",
    "\n",
    "![Hour glass clock](https://pixabay.com/photos/hourglass-time-hours-clock-620397/)\n",
    "\n"
   ]
  },
  {
   "cell_type": "markdown",
   "id": "71e867d9",
   "metadata": {},
   "source": [
    "## Description\n",
    "We write many different algorithms when programming. As we run these programs more often and with larger amounts of data, it is important to be able to compare the efficiency of these programs with one another. Big O allows us to do this. There are two aspects of code Big O considers: Time and Space. \n",
    "\n",
    "Big O looks at the amount of time it takes a program to run. It also looks at the amount of memory space a program requires."
   ]
  },
  {
   "cell_type": "markdown",
   "id": "58ec20e8",
   "metadata": {},
   "source": [
    "## Self Assessment"
   ]
  },
  {
   "cell_type": "markdown",
   "id": "6b6725f1",
   "metadata": {},
   "source": [
    "&#9989; **<span style=\"color:red\">Question 1:</span>** Let's say you have a linear algorithm. Type its correct Big O notation."
   ]
  },
  {
   "cell_type": "code",
   "execution_count": null,
   "id": "9c50d3cc",
   "metadata": {},
   "outputs": [],
   "source": [
    "## Put your answer here"
   ]
  },
  {
   "cell_type": "code",
   "execution_count": null,
   "id": "7bc902d2",
   "metadata": {
    "scrolled": true
   },
   "outputs": [],
   "source": [
    "##ANSWER##\n",
    "O(N)\n",
    "##ANSWER##"
   ]
  },
  {
   "cell_type": "code",
   "execution_count": null,
   "id": "b0bcbd50",
   "metadata": {},
   "outputs": [],
   "source": [
    "from answercheck import checkanswer\n",
    "checkanswer.vector(x,'2cab95d1b144d663bad1ce5c51020ae0')"
   ]
  },
  {
   "cell_type": "markdown",
   "id": "38dd8bfb",
   "metadata": {},
   "source": [
    "&#9989; **<span style=\"color:red\">Question 2:</span>** What type of algorithm has a higher Big O value? (It requires more time and/or space than the others)\n",
    "\n",
    "1. Linear\n",
    "2. Exponential\n",
    "3. Quadratic\n",
    "4. Binary Search"
   ]
  },
  {
   "cell_type": "code",
   "execution_count": null,
   "id": "0a7bd8a8",
   "metadata": {},
   "outputs": [],
   "source": [
    "## Put your answer here"
   ]
  },
  {
   "cell_type": "code",
   "execution_count": null,
   "id": "62bf095a",
   "metadata": {},
   "outputs": [],
   "source": [
    "##ANSWER##\n",
    "2\n",
    "##ANSWER##"
   ]
  },
  {
   "cell_type": "markdown",
   "id": "67a669f6",
   "metadata": {},
   "source": [
    "&#9989; **<span style=\"color:red\">Question 3:</span>** What type of algorithm has to have an ordered container to be used?\n",
    "\n",
    "1. Linear\n",
    "2. Exponential\n",
    "3. Quadratic\n",
    "4. Binary Search"
   ]
  },
  {
   "cell_type": "code",
   "execution_count": null,
   "id": "3b5de69d",
   "metadata": {},
   "outputs": [],
   "source": [
    "## Put your answer here"
   ]
  },
  {
   "cell_type": "code",
   "execution_count": null,
   "id": "f5fb293c",
   "metadata": {},
   "outputs": [],
   "source": [
    "##ANSWER##\n",
    "4\n",
    "##ANSWER##"
   ]
  },
  {
   "cell_type": "markdown",
   "id": "49395163",
   "metadata": {},
   "source": [
    "&#9989; **<span style=\"color:red\">Question 4:</span>** If a program has multiple pieces of code with different run times, what Big O notation is used to represent the entire program run time? \n",
    "\n",
    "1. The largest run time from the code\n",
    "2. The minimum code run time from the code\n",
    "3. An average of all the code chunk run times\n",
    "4. The sum of all the code chunk run times"
   ]
  },
  {
   "cell_type": "code",
   "execution_count": null,
   "id": "1ccb15b6",
   "metadata": {},
   "outputs": [],
   "source": [
    "## Put your answer here"
   ]
  },
  {
   "cell_type": "code",
   "execution_count": null,
   "id": "cd1ea9c4",
   "metadata": {},
   "outputs": [],
   "source": [
    "##ANSWER##\n",
    "1\n",
    "##ANSWER##"
   ]
  },
  {
   "cell_type": "markdown",
   "id": "c12a3b73",
   "metadata": {},
   "source": [
    "&#9989; **<span style=\"color:red\">Question 5:</span>** What type of Big O example is the following code? (Answer in all lowercase text)"
   ]
  },
  {
   "cell_type": "code",
   "execution_count": null,
   "id": "4ac7afad",
   "metadata": {},
   "outputs": [],
   "source": [
    "valList = [1,2,3,4,5]\n",
    "listSum = 0;\n",
    "for x in valList:\n",
    "    listSum += x\n",
    "\n",
    "print(listSum)"
   ]
  },
  {
   "cell_type": "code",
   "execution_count": null,
   "id": "ac0e0202",
   "metadata": {},
   "outputs": [],
   "source": [
    "## Put your answer here"
   ]
  },
  {
   "cell_type": "code",
   "execution_count": null,
   "id": "4b5e2b4c",
   "metadata": {},
   "outputs": [],
   "source": [
    "##ANSWER##\n",
    "linear\n",
    "##ANSWER##"
   ]
  },
  {
   "cell_type": "markdown",
   "id": "99f869f7",
   "metadata": {},
   "source": [
    "&#9989; **<span style=\"color:red\">Question 7:</span>** What type of Big O example is the following code? (Answer in all lowercase text)"
   ]
  },
  {
   "cell_type": "code",
   "execution_count": null,
   "id": "4e79ed15",
   "metadata": {},
   "outputs": [],
   "source": [
    "valList = [1,2,3,4,5]\n",
    "listSize = len(valList)\n",
    "print(listSize)"
   ]
  },
  {
   "cell_type": "code",
   "execution_count": null,
   "id": "fbdbbc87",
   "metadata": {},
   "outputs": [],
   "source": [
    "## Put your answer here"
   ]
  },
  {
   "cell_type": "code",
   "execution_count": null,
   "id": "f6628cdd",
   "metadata": {},
   "outputs": [],
   "source": [
    "##ANSWER##\n",
    "constant\n",
    "##ANSWER##"
   ]
  },
  {
   "cell_type": "markdown",
   "id": "5d237ca9",
   "metadata": {},
   "source": [
    "## Training Materials\n",
    "\n",
    "\n"
   ]
  },
  {
   "cell_type": "markdown",
   "id": "1b047470",
   "metadata": {},
   "source": [
    "&#9989; **<span style=\"color:red\">Read the following website:</span>** <br/> An introduction to what Big O notation is and a few types of notation you should be familiar with: <br/> <br/> https://towardsdatascience.com/introduction-to-big-o-notation-820d2e25d3fd"
   ]
  },
  {
   "cell_type": "markdown",
   "id": "72ca96bc",
   "metadata": {},
   "source": [
    "&#9989; **<span style=\"color:red\">Watch the following video:</span>** <br/> Reviewing Big O notation, expanding on what you previously read, and going over examples of Big O notation:<br/>"
   ]
  },
  {
   "cell_type": "code",
   "execution_count": 1,
   "id": "6ff70742",
   "metadata": {
    "scrolled": true
   },
   "outputs": [
    {
     "data": {
      "image/jpeg": "[encoded data removed]",
      "text/html": [
       "\n",
       "        <iframe\n",
       "            width=\"100%\"\n",
       "            height=\"360\"\n",
       "            src=\"https://www.youtube.com/embed/__vX2sjlpXU?cc_load_policy=True\"\n",
       "            frameborder=\"0\"\n",
       "            allowfullscreen\n",
       "        ></iframe>\n",
       "        "
      ],
      "text/plain": [
       "<IPython.lib.display.YouTubeVideo at 0x7f5f00d7ba00>"
      ]
     },
     "execution_count": 1,
     "metadata": {},
     "output_type": "execute_result"
    }
   ],
   "source": [
    "from IPython.display import YouTubeVideo\n",
    "YouTubeVideo(\"__vX2sjlpXU\",width=\"100%\", height=360, cc_load_policy=True)"
   ]
  },
  {
   "cell_type": "markdown",
   "id": "59d22056",
   "metadata": {},
   "source": [
    "&#9989; **<span style=\"color:red\">Click on the link below:</span>** <br/>\n",
    "You do not need to read the entire article; rather, look at the first couple of Big O notations. These provide good code examples for each notation and an explanation of *why* they fall under a certain Big O notation.<br/><br/>\n",
    "https://developerinsider.co/big-o-notation-explained-with-examples/"
   ]
  },
  {
   "cell_type": "markdown",
   "id": "9812391f",
   "metadata": {},
   "source": [
    "&#9989; **<span style=\"color:red\">Click on the link below:</span>** <br/>\n",
    "**TIP:** In C++, you can see how complex different algorithms are by looking at their documentation. The function you are going to look at is the \"copy\" function. In C++, this function will copy the string (AKA text) from one container to another. <br/> <br/>\n",
    "https://cplusplus.com/reference/string/string/copy/\n",
    "<br/><br/>\n",
    "Scroll down on the page to where it says \"Complexity\". Ask yourself the following questions: <br/>\n",
    " - *What type of Big O search is this?* <br/>\n",
    " - *What would be the notation?* <br/> <br/>\n",
    "Then, click on the following link below and compare the \"at\" functions Complexity to that of the \"copy\" function. <br/><br/>\n",
    "https://cplusplus.com/reference/string/string/at/"
   ]
  },
  {
   "cell_type": "markdown",
   "id": "44b461a0",
   "metadata": {},
   "source": [
    "---\n",
    "\n",
    "Written by Jessica Parks, Michigan State University  \n",
    "As part of the Data Science Bridge Project \n",
    "    \n",
    "<a rel=\"license\" href=\"http://creativecommons.org/licenses/by-nc/4.0/\"><img alt=\"Creative Commons License\" style=\"border-width:0\" src=\"https://i.creativecommons.org/l/by-nc/4.0/88x31.png\" /></a><br />This work is licensed under a <a rel=\"license\" href=\"http://creativecommons.org/licenses/by-nc/4.0/\">Creative Commons Attribution-NonCommercial 4.0 International License</a>."
   ]
  },
  {
   "cell_type": "code",
   "execution_count": null,
   "id": "6452d221",
   "metadata": {},
   "outputs": [],
   "source": []
  }
 ],
 "metadata": {
  "kernelspec": {
   "display_name": "Python 3",
   "language": "python",
   "name": "python3"
  },
  "language_info": {
   "codemirror_mode": {
    "name": "ipython",
    "version": 3
   },
   "file_extension": ".py",
   "mimetype": "text/x-python",
   "name": "python",
   "nbconvert_exporter": "python",
   "pygments_lexer": "ipython3",
   "version": "3.8.8"
  }
 },
 "nbformat": 4,
 "nbformat_minor": 5
}
