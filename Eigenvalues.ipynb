{
 "cells": [
  {
   "cell_type": "code",
   "execution_count": 4,
   "id": "bf3966f2",
   "metadata": {},
   "outputs": [
    {
     "ename": "SyntaxError",
     "evalue": "invalid syntax (4091352979.py, line 3)",
     "output_type": "error",
     "traceback": [
      "\u001b[0;36m  Input \u001b[0;32mIn [4]\u001b[0;36m\u001b[0m\n\u001b[0;31m    [Beezer Chapter E pg 367-369](http://linear.ups.edu/download/fcla-3.50-tablet.pdf)\u001b[0m\n\u001b[0m            ^\u001b[0m\n\u001b[0;31mSyntaxError\u001b[0m\u001b[0;31m:\u001b[0m invalid syntax\n"
     ]
    }
   ],
   "source": [
    "Sources\n",
    "\n",
    "[Beezer Chapter E pg 367-369](http://linear.ups.edu/download/fcla-3.50-tablet.pdf)\n",
    "\"10--Eigenproblems_pre-class-assignment\""
   ]
  },
  {
   "cell_type": "code",
   "execution_count": 32,
   "id": "fc73d74c",
   "metadata": {
    "scrolled": true
   },
   "outputs": [
    {
     "data": {
      "text/plain": [
       "('answercheck.py', <http.client.HTTPMessage at 0x7fc9a8612220>)"
      ]
     },
     "execution_count": 32,
     "metadata": {},
     "output_type": "execute_result"
    }
   ],
   "source": [
    "##ANSWER##\n",
    "#Install answercheck in current director\n",
    "from urllib.request import urlretrieve\n",
    "urlretrieve('https://raw.githubusercontent.com/colbrydi/jupytercheck/master/answercheck.py', filename='answercheck.py')\n",
    "##ANSWER##"
   ]
  },
  {
   "cell_type": "markdown",
   "id": "3c2a4f39",
   "metadata": {},
   "source": [
    "# Eigenvalues and Eigenvectors\n"
   ]
  },
  {
   "cell_type": "markdown",
   "id": "71e867d9",
   "metadata": {},
   "source": [
    "## Description\n",
    "Suppose $A$ is an $nxn$ matrix, and $x$ is a non-zero vector of length $n$. We call $x$ an eigenvector of $A$, (and $\\lambda$ an eigenvalue of $A$ if the following holds true:\n",
    "$$Ax=\\lambda x$$"
   ]
  },
  {
   "cell_type": "markdown",
   "id": "58ec20e8",
   "metadata": {},
   "source": [
    "## Self Assessment"
   ]
  },
  {
   "cell_type": "code",
   "execution_count": 5,
   "id": "9e7b32e4",
   "metadata": {},
   "outputs": [],
   "source": [
    "import numpy as np\n",
    "import sympy as sym\n",
    "sym.init_printing(use_unicode=True)"
   ]
  },
  {
   "cell_type": "markdown",
   "id": "43219d26",
   "metadata": {},
   "source": [
    "&#9989; **<span style=\"color:red\">Question:</span>**  Find the eigenvectors and corresponding eigenvalues to the following matrix:\n",
    "\n",
    "$$A =\n",
    "\\left[\n",
    "\\begin{matrix}\n",
    "    -5 & 3  \\\\\n",
    "    2 & 5\n",
    " \\end{matrix}\n",
    "\\right] \n",
    "$$"
   ]
  },
  {
   "cell_type": "code",
   "execution_count": 10,
   "id": "64684dfd",
   "metadata": {},
   "outputs": [
    {
     "data": {
      "text/plain": [
       "(array([-5.56776436,  5.56776436]),\n",
       " matrix([[-0.98255847, -0.27309129],\n",
       "         [ 0.18595389, -0.96198812]]))"
      ]
     },
     "execution_count": 10,
     "metadata": {},
     "output_type": "execute_result"
    }
   ],
   "source": [
    "#Put your answer here\n",
    "Eigenvector_1 = \n",
    "Eigenvector_2 = \n",
    "Eigenvalue_1 = \n",
    "Eigenvalue_2 = "
   ]
  },
  {
   "cell_type": "code",
   "execution_count": 21,
   "id": "619a2259",
   "metadata": {},
   "outputs": [],
   "source": [
    "##ANSWER##\n",
    "Eigenvector_1 = np.matrix([[-0.98255847],[0.18595389]])\n",
    "Eigenvector_2 = np.matrix([[ -0.27309129],[-0.96198812]])\n",
    "Eigenvalue_1 = -5.56776436\n",
    "Eigenvalue_2 = 5.56776436\n",
    "##ANSWER##"
   ]
  },
  {
   "cell_type": "code",
   "execution_count": 17,
   "id": "9cc2b34a",
   "metadata": {},
   "outputs": [
    {
     "name": "stdout",
     "output_type": "stream",
     "text": [
      "\n",
      "CheckWarning: passed matrix is int64 and not <class 'numpy.float64'>...\n",
      "    Trying to convert to float using ```A = A.astype(float)```.\n",
      "\n",
      "\n",
      "CheckWarning: numpy.matrix is row vector...\n",
      "    Trying to convert to a column vector using ```A = A.T```.\n",
      "\n",
      "Testing [[-6.  2.]\n",
      " [ 3.  5.]]\n",
      "Answer seems to be correct\n",
      "\n"
     ]
    }
   ],
   "source": [
    "from answercheck import checkanswer\n",
    "checkanswer.vector(Eigenvector_1,'b10e973911c0f1aaa0935b4a5d28d45e')"
   ]
  },
  {
   "cell_type": "code",
   "execution_count": 19,
   "id": "e68fb05c",
   "metadata": {},
   "outputs": [
    {
     "name": "stdout",
     "output_type": "stream",
     "text": [
      "\n",
      "CheckWarning: passed variable is <class 'int'> and not a numpy.matrix.\n",
      "    Trying to convert to a array matrix using ```A = np.matrix(A)```.\n",
      "\n",
      "\n",
      "CheckWarning: passed matrix is int64 and not <class 'numpy.float64'>...\n",
      "    Trying to convert to float using ```A = A.astype(float)```.\n",
      "\n",
      "Testing [[3.]]\n",
      "Answer seems to be correct\n",
      "\n"
     ]
    }
   ],
   "source": [
    "from answercheck import checkanswer\n",
    "checkanswer.vector(Eigenvector_2,'1a8eec37d810b762b4d59f473a71d4ef')"
   ]
  },
  {
   "cell_type": "code",
   "execution_count": 23,
   "id": "c174a35a",
   "metadata": {
    "scrolled": true
   },
   "outputs": [
    {
     "name": "stdout",
     "output_type": "stream",
     "text": [
      "\n",
      "CheckWarning: passed variable is <class 'float'> and not a numpy.matrix.\n",
      "    Trying to convert to a array matrix using ```A = np.matrix(A)```.\n",
      "\n",
      "Testing [[-5.56776]]\n",
      "Answer seems to be correct\n",
      "\n"
     ]
    }
   ],
   "source": [
    "from answercheck import checkanswer\n",
    "checkanswer.vector(Eigenvalue_1,'e068443cfbf0eda723d5db1cc537d83e')"
   ]
  },
  {
   "cell_type": "code",
   "execution_count": 25,
   "id": "398e9ba7",
   "metadata": {
    "scrolled": true
   },
   "outputs": [
    {
     "name": "stdout",
     "output_type": "stream",
     "text": [
      "\n",
      "CheckWarning: passed variable is <class 'float'> and not a numpy.matrix.\n",
      "    Trying to convert to a array matrix using ```A = np.matrix(A)```.\n",
      "\n",
      "Testing [[5.56776]]\n",
      "Answer seems to be correct\n",
      "\n"
     ]
    }
   ],
   "source": [
    "from answercheck import checkanswer\n",
    "checkanswer.vector(Eigenvalue_2,'d184fa6826328eed38a2d3d2ef46ca27')"
   ]
  },
  {
   "cell_type": "markdown",
   "id": "cc8a72ca",
   "metadata": {},
   "source": [
    "&#9989; **<span style=\"color:red\">Question:</span>**  Find the eigenvectors and corresponding eigenvalues to the following matrix:\n",
    "\n",
    "$$A =\n",
    "\\left[\n",
    "\\begin{matrix}\n",
    "    4 & 9  \\\\\n",
    "    2 & 6\n",
    " \\end{matrix}\n",
    "\\right] \n",
    "$$"
   ]
  },
  {
   "cell_type": "code",
   "execution_count": 30,
   "id": "ebf94d59",
   "metadata": {},
   "outputs": [
    {
     "data": {
      "text/plain": [
       "(array([0.64110106, 9.35889894]),\n",
       " matrix([[-0.93687907, -0.85921919],\n",
       "         [ 0.34965357, -0.51160765]]))"
      ]
     },
     "execution_count": 30,
     "metadata": {},
     "output_type": "execute_result"
    }
   ],
   "source": [
    "#Put your answer here\n",
    "Eigenvector_1 =\n",
    "Eigenvector_2 =\n",
    "Eigenvalue_1 = \n",
    "Eigenvalue_2 = "
   ]
  },
  {
   "cell_type": "code",
   "execution_count": 37,
   "id": "ee9b8f48",
   "metadata": {},
   "outputs": [],
   "source": [
    "##ANSWER##\n",
    "Eigenvector_1 = np.matrix([[-0.93687907],[0.34965357]])\n",
    "Eigenvector_2 = np.matrix([[-0.85921919],[-0.51160765]])\n",
    "Eigenvalue_1 = 0.64110106\n",
    "Eigenvalue_2 = 9.35889894\n",
    "##ANSWER##"
   ]
  },
  {
   "cell_type": "code",
   "execution_count": 39,
   "id": "ac03c94b",
   "metadata": {},
   "outputs": [
    {
     "name": "stdout",
     "output_type": "stream",
     "text": [
      "\n",
      "CheckWarning: numpy.matrix is row vector...\n",
      "    Trying to convert to a column vector using ```A = A.T```.\n",
      "\n",
      "Testing [[-0.93688  0.34965]]\n",
      "Answer seems to be correct\n",
      "\n"
     ]
    }
   ],
   "source": [
    "from answercheck import checkanswer\n",
    "checkanswer.vector(Eigenvector_1,'b891f1e405f7bf6b5c3e231c913df9bf')"
   ]
  },
  {
   "cell_type": "code",
   "execution_count": 41,
   "id": "b0665a78",
   "metadata": {},
   "outputs": [
    {
     "name": "stdout",
     "output_type": "stream",
     "text": [
      "\n",
      "CheckWarning: numpy.matrix is row vector...\n",
      "    Trying to convert to a column vector using ```A = A.T```.\n",
      "\n",
      "Testing [[-0.85922 -0.51161]]\n",
      "Answer seems to be correct\n",
      "\n"
     ]
    }
   ],
   "source": [
    "from answercheck import checkanswer\n",
    "checkanswer.vector(Eigenvector_2,'ae93047ed19ef8a751245ce81fd5f331')"
   ]
  },
  {
   "cell_type": "code",
   "execution_count": 45,
   "id": "5d1675a7",
   "metadata": {
    "scrolled": true
   },
   "outputs": [
    {
     "name": "stdout",
     "output_type": "stream",
     "text": [
      "\n",
      "CheckWarning: passed variable is <class 'float'> and not a numpy.matrix.\n",
      "    Trying to convert to a array matrix using ```A = np.matrix(A)```.\n",
      "\n",
      "Testing [[0.6411]]\n",
      "Answer seems to be correct\n",
      "\n"
     ]
    }
   ],
   "source": [
    "from answercheck import checkanswer\n",
    "checkanswer.vector(Eigenvalue_1,'832b904a70eb6542300aea5f522a5011')"
   ]
  },
  {
   "cell_type": "code",
   "execution_count": 44,
   "id": "15ed65e4",
   "metadata": {
    "scrolled": true
   },
   "outputs": [
    {
     "name": "stdout",
     "output_type": "stream",
     "text": [
      "\n",
      "CheckWarning: passed variable is <class 'float'> and not a numpy.matrix.\n",
      "    Trying to convert to a array matrix using ```A = np.matrix(A)```.\n",
      "\n",
      "Testing [[9.3589]]\n",
      "Answer seems to be correct\n",
      "\n"
     ]
    }
   ],
   "source": [
    "from answercheck import checkanswer\n",
    "checkanswer.vector(Eigenvalue_2,'13907c0ecf18105ff35d136662c2a8a0')"
   ]
  },
  {
   "cell_type": "markdown",
   "id": "5d237ca9",
   "metadata": {},
   "source": [
    "## Training Materials\n",
    "\n",
    "\n"
   ]
  },
  {
   "cell_type": "markdown",
   "id": "62a1dda0",
   "metadata": {},
   "source": [
    "Reviewing the following text might be helpful: [Beezer Chapter E pg 367-369](http://linear.ups.edu/download/fcla-3.50-tablet.pdf)"
   ]
  },
  {
   "cell_type": "code",
   "execution_count": 2,
   "id": "cb7c7b43",
   "metadata": {},
   "outputs": [
    {
     "data": {
      "image/jpeg": "[encoded data removed]",
      "text/html": [
       "\n",
       "        <iframe\n",
       "            width=\"640\"\n",
       "            height=\"360\"\n",
       "            src=\"https://www.youtube.com/embed/TQvxWaQnrqI?cc_load_policy=True\"\n",
       "            frameborder=\"0\"\n",
       "            allowfullscreen\n",
       "            \n",
       "        ></iframe>\n",
       "        "
      ],
      "text/plain": [
       "<IPython.lib.display.YouTubeVideo at 0x7fea02c4b040>"
      ]
     },
     "execution_count": 2,
     "metadata": {},
     "output_type": "execute_result"
    }
   ],
   "source": [
    "from IPython.display import YouTubeVideo\n",
    "YouTubeVideo(\"TQvxWaQnrqI\",width=640,height=360, cc_load_policy=True)"
   ]
  },
  {
   "cell_type": "code",
   "execution_count": 1,
   "id": "03d3acf7",
   "metadata": {
    "scrolled": true
   },
   "outputs": [
    {
     "data": {
      "image/jpeg": "[encoded data removed]",
      "text/html": [
       "\n",
       "        <iframe\n",
       "            width=\"640\"\n",
       "            height=\"360\"\n",
       "            src=\"https://www.youtube.com/embed/PFDu9oVAE-g?cc_load_policy=True\"\n",
       "            frameborder=\"0\"\n",
       "            allowfullscreen\n",
       "            \n",
       "        ></iframe>\n",
       "        "
      ],
      "text/plain": [
       "<IPython.lib.display.YouTubeVideo at 0x7fea02c40460>"
      ]
     },
     "execution_count": 1,
     "metadata": {},
     "output_type": "execute_result"
    }
   ],
   "source": [
    "from IPython.display import YouTubeVideo\n",
    "YouTubeVideo(\"PFDu9oVAE-g\",width=640,height=360, cc_load_policy=True)"
   ]
  },
  {
   "cell_type": "markdown",
   "id": "44b461a0",
   "metadata": {},
   "source": [
    "---\n",
    "\n",
    "Written by Edmond Anderson, Michigan State University  \n",
    "As part of the Data Science Bridge Project \n",
    "    \n",
    "<a rel=\"license\" href=\"http://creativecommons.org/licenses/by-nc/4.0/\"><img alt=\"Creative Commons License\" style=\"border-width:0\" src=\"https://i.creativecommons.org/l/by-nc/4.0/88x31.png\" /></a><br />This work is licensed under a <a rel=\"license\" href=\"http://creativecommons.org/licenses/by-nc/4.0/\">Creative Commons Attribution-NonCommercial 4.0 International License</a>."
   ]
  },
  {
   "cell_type": "code",
   "execution_count": null,
   "id": "2efe914d",
   "metadata": {},
   "outputs": [],
   "source": []
  }
 ],
 "metadata": {
  "kernelspec": {
   "display_name": "Python 3 (ipykernel)",
   "language": "python",
   "name": "python3"
  },
  "language_info": {
   "codemirror_mode": {
    "name": "ipython",
    "version": 3
   },
   "file_extension": ".py",
   "mimetype": "text/x-python",
   "name": "python",
   "nbconvert_exporter": "python",
   "pygments_lexer": "ipython3",
   "version": "3.9.12"
  }
 },
 "nbformat": 4,
 "nbformat_minor": 5
}
