{
 "cells": [
  {
   "cell_type": "code",
   "execution_count": null,
   "id": "bf3966f2",
   "metadata": {},
   "outputs": [],
   "source": [
    "Sources\n",
    "\n",
    "https://textbooks.math.gatech.edu/ila/row-reduction.html"
   ]
  },
  {
   "cell_type": "code",
   "execution_count": 32,
   "id": "fc73d74c",
   "metadata": {
    "scrolled": true
   },
   "outputs": [
    {
     "data": {
      "text/plain": [
       "('answercheck.py', <http.client.HTTPMessage at 0x7fc9a8612220>)"
      ]
     },
     "execution_count": 32,
     "metadata": {},
     "output_type": "execute_result"
    }
   ],
   "source": [
    "##ANSWER##\n",
    "#Install answercheck in current director\n",
    "from urllib.request import urlretrieve\n",
    "urlretrieve('https://raw.githubusercontent.com/colbrydi/jupytercheck/master/answercheck.py', filename='answercheck.py')\n",
    "##ANSWER##"
   ]
  },
  {
   "cell_type": "markdown",
   "id": "3c2a4f39",
   "metadata": {},
   "source": [
    "# Reduced Row Echelon Form\n"
   ]
  },
  {
   "cell_type": "markdown",
   "id": "71e867d9",
   "metadata": {},
   "source": [
    "## Description\n",
    "We say a matrix is in reduced row echelon form if it is in row echelon form, each pivot is equal to 1, and each pivot is the only nonzero entry in its column."
   ]
  },
  {
   "cell_type": "markdown",
   "id": "58ec20e8",
   "metadata": {},
   "source": [
    "## Self Assessment"
   ]
  },
  {
   "cell_type": "code",
   "execution_count": 3,
   "id": "9e7b32e4",
   "metadata": {},
   "outputs": [],
   "source": [
    "import numpy as np\n",
    "import sympy as sym\n",
    "sym.init_printing(use_unicode=True)"
   ]
  },
  {
   "cell_type": "markdown",
   "id": "43219d26",
   "metadata": {},
   "source": [
    "&#9989; **<span style=\"color:red\">Question:</span>**  Use an augmented matrix to solve the following system of equations:\n",
    "\n",
    "\n",
    "$$x+5y+10z = 300$$ $$6x+2y+6z=3$$ $$x+z=6$$"
   ]
  },
  {
   "cell_type": "code",
   "execution_count": 22,
   "id": "64684dfd",
   "metadata": {},
   "outputs": [],
   "source": [
    "#Put your answer here\n"
   ]
  },
  {
   "cell_type": "code",
   "execution_count": 18,
   "id": "619a2259",
   "metadata": {},
   "outputs": [],
   "source": [
    "##ANSWER##\n",
    "x = -85/3\n",
    "y = -3\n",
    "z = 103/3\n",
    "##ANSWER##"
   ]
  },
  {
   "cell_type": "code",
   "execution_count": 23,
   "id": "9cc2b34a",
   "metadata": {},
   "outputs": [
    {
     "name": "stdout",
     "output_type": "stream",
     "text": [
      "\n",
      "CheckWarning: passed variable is <class 'float'> and not a numpy.matrix.\n",
      "    Trying to convert to a array matrix using ```A = np.matrix(A)```.\n",
      "\n",
      "Testing [[-28.33333]]\n",
      "Answer seems to be correct\n",
      "\n"
     ]
    }
   ],
   "source": [
    "from answercheck import checkanswer\n",
    "checkanswer.vector(x,'412995a755fefadf29c7c0474a1f229d')"
   ]
  },
  {
   "cell_type": "code",
   "execution_count": 25,
   "id": "e68fb05c",
   "metadata": {},
   "outputs": [
    {
     "name": "stdout",
     "output_type": "stream",
     "text": [
      "\n",
      "CheckWarning: passed variable is <class 'int'> and not a numpy.matrix.\n",
      "    Trying to convert to a array matrix using ```A = np.matrix(A)```.\n",
      "\n",
      "\n",
      "CheckWarning: passed matrix is int64 and not <class 'numpy.float64'>...\n",
      "    Trying to convert to float using ```A = A.astype(float)```.\n",
      "\n",
      "Testing [[-3.]]\n",
      "Answer seems to be correct\n",
      "\n"
     ]
    }
   ],
   "source": [
    "from answercheck import checkanswer\n",
    "checkanswer.vector(y,'cc2be23a521defd3ec6e6400899c16b2')"
   ]
  },
  {
   "cell_type": "code",
   "execution_count": 27,
   "id": "c174a35a",
   "metadata": {
    "scrolled": true
   },
   "outputs": [
    {
     "name": "stdout",
     "output_type": "stream",
     "text": [
      "\n",
      "CheckWarning: passed variable is <class 'float'> and not a numpy.matrix.\n",
      "    Trying to convert to a array matrix using ```A = np.matrix(A)```.\n",
      "\n",
      "Testing [[34.33333]]\n",
      "Answer seems to be correct\n",
      "\n"
     ]
    }
   ],
   "source": [
    "from answercheck import checkanswer\n",
    "checkanswer.vector(z,'6c0c78b64a1a6ae19769d37986ae0148')"
   ]
  },
  {
   "cell_type": "markdown",
   "id": "bfd97a19",
   "metadata": {},
   "source": [
    "&#9989; **<span style=\"color:red\">Question:</span>**  Put the following system of equations in reduced row echelon form.\n",
    "\n",
    "\n",
    "$$3x+.5y+3z = 5$$ $$5x+2y+2z=3$$ $$x+y+z=7$$"
   ]
  },
  {
   "cell_type": "code",
   "execution_count": 30,
   "id": "9855f5ba",
   "metadata": {},
   "outputs": [
    {
     "name": "stdout",
     "output_type": "stream",
     "text": [
      "\n",
      "CheckWarning: passed variable is <class 'tuple'> and not a numpy.matrix.\n",
      "    Trying to convert to a array matrix using ```A = np.matrix(A)```.\n",
      "\n"
     ]
    },
    {
     "name": "stderr",
     "output_type": "stream",
     "text": [
      "/Users/edmond/opt/anaconda3/lib/python3.9/site-packages/numpy/matrixlib/defmatrix.py:145: VisibleDeprecationWarning: Creating an ndarray from ragged nested sequences (which is a list-or-tuple of lists-or-tuples-or ndarrays with different lengths or shapes) is deprecated. If you meant to do this, you must specify 'dtype=object' when creating the ndarray.\n",
      "  arr = N.array(data, dtype=dtype, copy=copy)\n"
     ]
    },
    {
     "ename": "ValueError",
     "evalue": "could not broadcast input array from shape (3,4) into shape (3,)",
     "output_type": "error",
     "traceback": [
      "\u001b[0;31m---------------------------------------------------------------------------\u001b[0m",
      "\u001b[0;31mValueError\u001b[0m                                Traceback (most recent call last)",
      "Input \u001b[0;32mIn [30]\u001b[0m, in \u001b[0;36m<cell line: 2>\u001b[0;34m()\u001b[0m\n\u001b[1;32m      1\u001b[0m \u001b[38;5;28;01mfrom\u001b[39;00m \u001b[38;5;21;01manswercheck\u001b[39;00m \u001b[38;5;28;01mimport\u001b[39;00m checkanswer\n\u001b[0;32m----> 2\u001b[0m \u001b[43mcheckanswer\u001b[49m\u001b[38;5;241;43m.\u001b[39;49m\u001b[43mvector\u001b[49m\u001b[43m(\u001b[49m\u001b[43mM\u001b[49m\u001b[43m,\u001b[49m\u001b[38;5;124;43m'\u001b[39;49m\u001b[38;5;124;43m412995a755fefadf29c7c0474a1f229d\u001b[39;49m\u001b[38;5;124;43m'\u001b[39;49m\u001b[43m)\u001b[49m\n",
      "File \u001b[0;32m~/data_science_bridge_curriculum/answercheck.py:105\u001b[0m, in \u001b[0;36mcheckanswer.vector\u001b[0;34m(A, hashtag, decimal_accuracy)\u001b[0m\n\u001b[1;32m    104\u001b[0m \u001b[38;5;28;01mdef\u001b[39;00m \u001b[38;5;21mvector\u001b[39m(A, hashtag\u001b[38;5;241m=\u001b[39m\u001b[38;5;28;01mNone\u001b[39;00m, decimal_accuracy \u001b[38;5;241m=\u001b[39m \u001b[38;5;241m5\u001b[39m):\n\u001b[0;32m--> 105\u001b[0m     A \u001b[38;5;241m=\u001b[39m \u001b[43mcheckanswer\u001b[49m\u001b[38;5;241;43m.\u001b[39;49m\u001b[43mmake_vector\u001b[49m\u001b[43m(\u001b[49m\u001b[43mA\u001b[49m\u001b[43m,\u001b[49m\u001b[43m \u001b[49m\u001b[43mdecimal_accuracy\u001b[49m\u001b[43m)\u001b[49m\n\u001b[1;32m    106\u001b[0m     \u001b[38;5;28;01mreturn\u001b[39;00m checkanswer\u001b[38;5;241m.\u001b[39mbasic(A, hashtag)\n",
      "File \u001b[0;32m~/data_science_bridge_curriculum/answercheck.py:82\u001b[0m, in \u001b[0;36mcheckanswer.make_vector\u001b[0;34m(A, decimal_accuracy)\u001b[0m\n\u001b[1;32m     78\u001b[0m \u001b[38;5;28;01mif\u001b[39;00m(\u001b[38;5;28mtype\u001b[39m(A) \u001b[38;5;129;01mis\u001b[39;00m \u001b[38;5;129;01mnot\u001b[39;00m np\u001b[38;5;241m.\u001b[39mmatrix):\n\u001b[1;32m     79\u001b[0m     printwarning(textwrap\u001b[38;5;241m.\u001b[39mdedent(\u001b[38;5;124mf\u001b[39m\u001b[38;5;124m\"\"\"\u001b[39m\n\u001b[1;32m     80\u001b[0m \u001b[38;5;124m    CheckWarning: passed variable is \u001b[39m\u001b[38;5;132;01m{\u001b[39;00m\u001b[38;5;28mtype\u001b[39m(A)\u001b[38;5;132;01m}\u001b[39;00m\u001b[38;5;124m and not a numpy.matrix.\u001b[39m\n\u001b[1;32m     81\u001b[0m \u001b[38;5;124m        Trying to convert to a array matrix using ```A = np.matrix(A)```.\u001b[39m\u001b[38;5;130;01m\\n\u001b[39;00m\u001b[38;5;124m\"\"\"\u001b[39m))\n\u001b[0;32m---> 82\u001b[0m     A \u001b[38;5;241m=\u001b[39m \u001b[43mnp\u001b[49m\u001b[38;5;241;43m.\u001b[39;49m\u001b[43mmatrix\u001b[49m\u001b[43m(\u001b[49m\u001b[43mA\u001b[49m\u001b[43m)\u001b[49m\n\u001b[1;32m     83\u001b[0m \u001b[38;5;28;01mif\u001b[39;00m \u001b[38;5;129;01mnot\u001b[39;00m np\u001b[38;5;241m.\u001b[39missubdtype(A\u001b[38;5;241m.\u001b[39mdtype, np\u001b[38;5;241m.\u001b[39mdtype(\u001b[38;5;28mfloat\u001b[39m)\u001b[38;5;241m.\u001b[39mtype):\n\u001b[1;32m     84\u001b[0m     printwarning(textwrap\u001b[38;5;241m.\u001b[39mdedent(\u001b[38;5;124mf\u001b[39m\u001b[38;5;124m\"\"\"\u001b[39m\n\u001b[1;32m     85\u001b[0m \u001b[38;5;124m    CheckWarning: passed matrix is \u001b[39m\u001b[38;5;132;01m{\u001b[39;00mA\u001b[38;5;241m.\u001b[39mdtype\u001b[38;5;132;01m}\u001b[39;00m\u001b[38;5;124m and not \u001b[39m\u001b[38;5;132;01m{\u001b[39;00mnp\u001b[38;5;241m.\u001b[39mdtype(\u001b[38;5;28mfloat\u001b[39m)\u001b[38;5;241m.\u001b[39mtype\u001b[38;5;132;01m}\u001b[39;00m\u001b[38;5;124m...\u001b[39m\n\u001b[1;32m     86\u001b[0m \u001b[38;5;124m        Trying to convert to float using ```A = A.astype(float)```.\u001b[39m\u001b[38;5;130;01m\\n\u001b[39;00m\u001b[38;5;124m\"\"\"\u001b[39m))\n",
      "File \u001b[0;32m~/opt/anaconda3/lib/python3.9/site-packages/numpy/matrixlib/defmatrix.py:145\u001b[0m, in \u001b[0;36mmatrix.__new__\u001b[0;34m(subtype, data, dtype, copy)\u001b[0m\n\u001b[1;32m    142\u001b[0m     data \u001b[38;5;241m=\u001b[39m _convert_from_string(data)\n\u001b[1;32m    144\u001b[0m \u001b[38;5;66;03m# now convert data to an array\u001b[39;00m\n\u001b[0;32m--> 145\u001b[0m arr \u001b[38;5;241m=\u001b[39m \u001b[43mN\u001b[49m\u001b[38;5;241;43m.\u001b[39;49m\u001b[43marray\u001b[49m\u001b[43m(\u001b[49m\u001b[43mdata\u001b[49m\u001b[43m,\u001b[49m\u001b[43m \u001b[49m\u001b[43mdtype\u001b[49m\u001b[38;5;241;43m=\u001b[39;49m\u001b[43mdtype\u001b[49m\u001b[43m,\u001b[49m\u001b[43m \u001b[49m\u001b[43mcopy\u001b[49m\u001b[38;5;241;43m=\u001b[39;49m\u001b[43mcopy\u001b[49m\u001b[43m)\u001b[49m\n\u001b[1;32m    146\u001b[0m ndim \u001b[38;5;241m=\u001b[39m arr\u001b[38;5;241m.\u001b[39mndim\n\u001b[1;32m    147\u001b[0m shape \u001b[38;5;241m=\u001b[39m arr\u001b[38;5;241m.\u001b[39mshape\n",
      "\u001b[0;31mValueError\u001b[0m: could not broadcast input array from shape (3,4) into shape (3,)"
     ]
    }
   ],
   "source": [
    "from answercheck import checkanswer\n",
    "checkanswer.vector(M,'412995a755fefadf29c7c0474a1f229d')"
   ]
  },
  {
   "cell_type": "markdown",
   "id": "5704e5ea",
   "metadata": {},
   "source": [
    "&#9989; **<span style=\"color:red\">Question:</span>**  Is the following matrix in reduced row echelon form? Why or why not?\n",
    "\n",
    "\n",
    "$\\left[ \\begin{matrix} 1&0&0&0&5\\\\ 0&1&0&0&3\\\\0&0&0&1&2\\end{matrix} \\right]$"
   ]
  },
  {
   "cell_type": "markdown",
   "id": "2515c443",
   "metadata": {},
   "source": [
    "A - Yes, this matrix is in reduced row echelon form\n",
    "B - No, this matrix is not in reduced row echelon form because there are non-zero entries in the last column\n",
    "C - No, this matrix is not in reduced row echelon form because the third column has no leading coefficient"
   ]
  },
  {
   "cell_type": "code",
   "execution_count": 29,
   "id": "ce853368",
   "metadata": {},
   "outputs": [],
   "source": [
    "##ANSWER##\n",
    "A\n",
    "##ANSWER##"
   ]
  },
  {
   "cell_type": "markdown",
   "id": "5d237ca9",
   "metadata": {},
   "source": [
    "## Training Materials\n",
    "\n",
    "\n"
   ]
  },
  {
   "cell_type": "code",
   "execution_count": 1,
   "id": "03d3acf7",
   "metadata": {},
   "outputs": [
    {
     "data": {
      "image/jpeg": "[encoded data removed]",
      "text/html": [
       "\n",
       "        <iframe\n",
       "            width=\"640\"\n",
       "            height=\"360\"\n",
       "            src=\"https://www.youtube.com/embed/eYSASx8_nyg?cc_load_policy=True\"\n",
       "            frameborder=\"0\"\n",
       "            allowfullscreen\n",
       "            \n",
       "        ></iframe>\n",
       "        "
      ],
      "text/plain": [
       "<IPython.lib.display.YouTubeVideo at 0x7fb019c41bb0>"
      ]
     },
     "execution_count": 1,
     "metadata": {},
     "output_type": "execute_result"
    }
   ],
   "source": [
    "from IPython.display import YouTubeVideo\n",
    "YouTubeVideo(\"eYSASx8_nyg\",width=640,height=360, cc_load_policy=True)"
   ]
  },
  {
   "cell_type": "markdown",
   "id": "44b461a0",
   "metadata": {},
   "source": [
    "---\n",
    "\n",
    "Written by Edmond Anderson, Michigan State University  \n",
    "As part of the Data Science Bridge Project \n",
    "    \n",
    "<a rel=\"license\" href=\"http://creativecommons.org/licenses/by-nc/4.0/\"><img alt=\"Creative Commons License\" style=\"border-width:0\" src=\"https://i.creativecommons.org/l/by-nc/4.0/88x31.png\" /></a><br />This work is licensed under a <a rel=\"license\" href=\"http://creativecommons.org/licenses/by-nc/4.0/\">Creative Commons Attribution-NonCommercial 4.0 International License</a>."
   ]
  },
  {
   "cell_type": "code",
   "execution_count": null,
   "id": "2efe914d",
   "metadata": {},
   "outputs": [],
   "source": []
  }
 ],
 "metadata": {
  "kernelspec": {
   "display_name": "Python 3 (ipykernel)",
   "language": "python",
   "name": "python3"
  },
  "language_info": {
   "codemirror_mode": {
    "name": "ipython",
    "version": 3
   },
   "file_extension": ".py",
   "mimetype": "text/x-python",
   "name": "python",
   "nbconvert_exporter": "python",
   "pygments_lexer": "ipython3",
   "version": "3.9.12"
  }
 },
 "nbformat": 4,
 "nbformat_minor": 5
}
