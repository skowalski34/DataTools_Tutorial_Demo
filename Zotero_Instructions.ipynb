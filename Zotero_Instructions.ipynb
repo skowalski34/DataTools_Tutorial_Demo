{
 "cells": [
  {
   "cell_type": "markdown",
   "id": "be2d84ba-8a14-43b5-ade9-d72bf16e7feb",
   "metadata": {},
   "source": [
    "# Instructions for using Zotero"
   ]
  },
  {
   "cell_type": "markdown",
   "id": "99e95fb6-8919-4fec-8c59-7cf7a5d12777",
   "metadata": {},
   "source": [
    "<img src=https://www.zotero.org/static/images/icons/zotero-icon-147-160@2x.png>"
   ]
  },
  {
   "cell_type": "markdown",
   "id": "715e4814-f167-4208-a5a3-669a5942412d",
   "metadata": {},
   "source": [
    "## What is Zotero?\n",
    "Zotero is a software that is a way to manage references. Zotero will keep track and help to manage all sorts of different files. It is simple to add references to Zotero, a click or  one drag and drop is all one needs to add a reference to their library. Citation information can be kept and organized with Zotero. Zotero can be useful to many projects where outside resources are used."
   ]
  },
  {
   "cell_type": "markdown",
   "id": "9c849f89-4a92-4465-a3e1-00dd81c3836f",
   "metadata": {},
   "source": [
    "____\n",
    "Tutorial created by Team Old Nation: Jordan Lesniak, Amanda Bowerman, Mira Ghazali, and Johnny Danstrom\n",
    "____"
   ]
  },
  {
   "cell_type": "markdown",
   "id": "0b8a6c44-debe-4774-8b03-a7ad7067fba7",
   "metadata": {},
   "source": [
    "## Setup Instructions\n",
    "\n",
    "To setup or install simply go to https://www.zotero.org/download/ . Download the version suited for your computer. Make sure there is storage available on your computer. Then follow the setup guide. \n",
    "___"
   ]
  },
  {
   "cell_type": "markdown",
   "id": "39a855b0-b217-4b01-9d93-e419ede64dfd",
   "metadata": {},
   "source": [
    "## Instructions for Using Zotero\n",
    "\n",
    "To access Zotero, click on the application icon that was created after downloading and installing. \n",
    "\n",
    "Once on the application opens you will be brought to the main page. From here you can do a number of different things including: Adding your own publications, creating new citations, and managing your current citations. \n",
    "\n",
    "Think of zotero like an address book of citations! \n",
    "\n",
    "We are going to focus on creating new citations\n",
    "\n",
    "### Creating New Citations\n",
    "\n",
    "To create a new citation (or item) click on the drop down with the little green circle. Then select what type of citation you want to create. After this, a new citation will pop up and you will be asked to enter the title, author name(s) and other information for your citation.\n",
    "\n",
    "Congrats! Your new citation has been created!\n",
    "\n",
    "### Managing Existing Citations\n",
    "\n",
    "To manage existing citations, you can click on the citation you want to edit and the same information will pop up just like when creating a new citation.\n",
    "___"
   ]
  },
  {
   "cell_type": "markdown",
   "id": "9d845196-f8a8-403d-8161-4287c11b17c0",
   "metadata": {},
   "source": [
    "## What Data is Available on Zotero?\n",
    "\n",
    "Zotero is a free citation manager that will allow you to collect, organize, share, and cite research items. Zotero offers local storage of data on your own computer, online access to your data, and browser extensions for Chrome and Firefox to ingest bibliographic metadata to ease the collection of citations. ZoteroBib (a separate tool) will help you create a quick bibliography through manually entering items or ingesting metadata from library catalogs, newspapers, magazines, ISBNs, DOIs, and more. ZoteroBib generates citations in a browser that can be pasted into a research paper in an array of citation styles including MLA, APA, and Chicago. This digital tool is better suited for short-term research and/or assignment needs."
   ]
  },
  {
   "cell_type": "markdown",
   "id": "864ec654-9b02-4af0-8d3b-98d468fd2757",
   "metadata": {},
   "source": [
    "___\n",
    "\n",
    "### For example, if you wanted collect articles containing information pertaining the latest COVID-19 data:\n",
    "\n",
    "You would need to find the articles you need online and upload them into Zotero. There, you can create and store all of your citations in one place (let’s say, in your ‘COVID-19’ folder) for future reference. With the tons of available information online about the pandemic, this will be a good way to keep track of the sources that are the most valuable to you without having to sift through extraneous data. \n",
    "___"
   ]
  },
  {
   "cell_type": "markdown",
   "id": "27715217-cf12-428d-95e7-4c86702df82d",
   "metadata": {},
   "source": [
    "## How Could Zotero Be Used for Capstone Projects?\n",
    "\n",
    "This tool can be used among every group to store and collect all of a team's citations that will be used throughout the course of the semester. This application will especially be useful to every team since it is able to collect citations and store them for later use. So when a team collects citations for their data, they won't forget where they got the data by the end of the semester.\n",
    "___"
   ]
  },
  {
   "cell_type": "markdown",
   "id": "f4984764-78c9-419f-8081-9a174ce6c952",
   "metadata": {},
   "source": [
    "## References\n",
    "\n",
    "https://fordham.libguides.com/BibliographicManagement/Zotero#:~:text=Zotero%20is%20a%20free*%20citation,ease%20the%20collection%20of%20citations.\n"
   ]
  }
 ],
 "metadata": {
  "kernelspec": {
   "display_name": "Python 3",
   "language": "python",
   "name": "python3"
  },
  "language_info": {
   "codemirror_mode": {
    "name": "ipython",
    "version": 3
   },
   "file_extension": ".py",
   "mimetype": "text/x-python",
   "name": "python",
   "nbconvert_exporter": "python",
   "pygments_lexer": "ipython3",
   "version": "3.8.8"
  }
 },
 "nbformat": 4,
 "nbformat_minor": 5
}
